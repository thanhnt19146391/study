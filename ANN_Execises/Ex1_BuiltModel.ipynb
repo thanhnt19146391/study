{
  "nbformat": 4,
  "nbformat_minor": 0,
  "metadata": {
    "colab": {
      "name": " Ex1_BuiltModel.ipynb",
      "provenance": [],
      "collapsed_sections": [],
      "mount_file_id": "1sxePmWrhB9FyUsBDADwN1FcNwAlRT60s",
      "authorship_tag": "ABX9TyMg4yTy5j3Zrc9m30QiL9/G",
      "include_colab_link": true
    },
    "kernelspec": {
      "name": "python3",
      "display_name": "Python 3"
    },
    "language_info": {
      "name": "python"
    },
    "accelerator": "GPU"
  },
  "cells": [
    {
      "cell_type": "markdown",
      "metadata": {
        "id": "view-in-github",
        "colab_type": "text"
      },
      "source": [
        "<a href=\"https://colab.research.google.com/github/thanhnt19146391/thanhnt19146391/blob/main/Ex1_BuiltModel.ipynb\" target=\"_parent\"><img src=\"https://colab.research.google.com/assets/colab-badge.svg\" alt=\"Open In Colab\"/></a>"
      ]
    },
    {
      "cell_type": "code",
      "source": [
        "# Import the necessary packages\n",
        "from keras.models import Sequential, load_model\n",
        "from keras.layers import Dense, Dropout, Activation\n",
        "from keras.utils import np_utils\n",
        "import tensorflow as tf\n",
        "from tensorflow.keras.optimizers import Adam\n",
        "import cv2\n",
        "import matplotlib.pyplot as plt\n",
        "import numpy as np\n"
      ],
      "metadata": {
        "id": "tqaBd6oSC5GH"
      },
      "execution_count": 172,
      "outputs": []
    },
    {
      "cell_type": "code",
      "source": [
        "def show_gray_img(img):\n",
        "    plt.imshow(img, cmap = plt.get_cmap('gray'))\n",
        "    plt.colorbar()\n",
        "    plt.show()"
      ],
      "metadata": {
        "id": "MjuWYXX2Ci52"
      },
      "execution_count": 173,
      "outputs": []
    },
    {
      "cell_type": "code",
      "source": [
        "def show_rgb_img(img):\n",
        "    plt.imshow(cv2.cvtColor(img, cv2.COLOR_BGR2RGB))\n",
        "    plt.colorbar()\n",
        "    plt.show()"
      ],
      "metadata": {
        "id": "_2UL-akkF1Nl"
      },
      "execution_count": 174,
      "outputs": []
    },
    {
      "cell_type": "code",
      "source": [
        "IMG_SIZE = (150 , 150)\n",
        "N = 60\n",
        "PATH = \"/content/drive/MyDrive/Colab Notebooks/AI/ANN_Execises/\"\n",
        "TRAIN_PATH = \"/content/drive/MyDrive/Colab Notebooks/AI/ANN_Execises/Ex1_train/Formated/\"\n",
        "TEST_PATH = \"/content/drive/MyDrive/Colab Notebooks/AI/ANN_Execises/Ex1_test/Formated/\"\n",
        "EPOCHS = 200\n",
        "BATCH_SIZE = 16\n",
        "VERBOSE = 1\n",
        "NB_CLASS = 2   # number of outputs = number of digits\n",
        "N_HIDDEN = 128 \n",
        "VALIDATION_SPLIT = 0.2    # how much TRAIN is reserved for VALIDATION\n",
        "RESHAPED = 150 * 150\n",
        "PATH = \"/content/drive/MyDrive/Colab Notebooks/AI/ANN_Execises/\"\n",
        "DROPOUT = 0.3\n",
        "IMG_SIZE = (150 , 150)"
      ],
      "metadata": {
        "id": "Hq_BO6-uC733"
      },
      "execution_count": 175,
      "outputs": []
    },
    {
      "cell_type": "code",
      "source": [
        "# Read datasets\n",
        "x_train = []\n",
        "y_train = np.zeros((N, ), dtype = np.uint8)\n",
        "for i in range(N):    \n",
        "    img = cv2.imread(TRAIN_PATH + str(i) + \".jpg\", 0)\n",
        "    x_train.append(img)\n",
        "\n",
        "x_train = np.array(x_train)\n",
        "x_train = x_train.reshape(N, 150, 150)\n",
        "\n",
        "for i in range(22):\n",
        "    y_train[i] = 1\n",
        "\n",
        "print(x_train.shape)\n",
        "print(y_train.shape)\n",
        "# for i in range(N): \n",
        "#     show_gray_img(x_train[i])\n",
        "#     print(y_train[i])"
      ],
      "metadata": {
        "id": "mtzy8pWQEAsg",
        "colab": {
          "base_uri": "https://localhost:8080/"
        },
        "outputId": "db1e2beb-43e1-4220-a4b8-7f473444f83b"
      },
      "execution_count": 176,
      "outputs": [
        {
          "output_type": "stream",
          "name": "stdout",
          "text": [
            "(60, 150, 150)\n",
            "(60,)\n"
          ]
        }
      ]
    },
    {
      "cell_type": "code",
      "source": [
        "# Format input function\n",
        "def format_input(x):\n",
        "  global RESHAPE\n",
        "  x = x.reshape(x.shape[0], RESHAPED)\n",
        "  x = x.astype('float32')\n",
        "  x /= 255\n",
        "  return x"
      ],
      "metadata": {
        "id": "riS_q8K8Slzx"
      },
      "execution_count": 177,
      "outputs": []
    },
    {
      "cell_type": "code",
      "execution_count": 178,
      "metadata": {
        "id": "_1YbeRat5vhd",
        "colab": {
          "base_uri": "https://localhost:8080/"
        },
        "outputId": "c8126f34-2e7f-4759-89f7-087249cc3472"
      },
      "outputs": [
        {
          "output_type": "stream",
          "name": "stdout",
          "text": [
            "x train shape (60, 22500)\n"
          ]
        }
      ],
      "source": [
        "# Format inputs\n",
        "x_train = format_input(x_train)\n",
        "\n",
        "print(\"x train shape\", x_train.shape)"
      ]
    },
    {
      "cell_type": "code",
      "source": [
        "# Format outputs - OHE - One Hot Encoding\n",
        "\n",
        "print(y_train.shape)\n",
        "\n",
        "# print(y_train)\n",
        "\n",
        "y_train = np_utils.to_categorical(y_train, NB_CLASS)\n",
        "\n",
        "# print(y_train)"
      ],
      "metadata": {
        "colab": {
          "base_uri": "https://localhost:8080/"
        },
        "id": "rvtp6RFgTYR2",
        "outputId": "cca2b504-b3dd-48ef-c6e5-964a64cdf352"
      },
      "execution_count": 179,
      "outputs": [
        {
          "output_type": "stream",
          "name": "stdout",
          "text": [
            "(60,)\n"
          ]
        }
      ]
    },
    {
      "cell_type": "code",
      "source": [
        "# Save model\n",
        "def Save_model(i, model):\n",
        "    global PATH\n",
        "    model_name = \"Ex1_model\" + str(i) + \".h\" \n",
        "    model.save(PATH + model_name)\n",
        "    model = load_model(PATH + model_name)"
      ],
      "metadata": {
        "id": "8A07LVhEUnBe"
      },
      "execution_count": 180,
      "outputs": []
    },
    {
      "cell_type": "code",
      "source": [
        "# Load model\n",
        "def Load_model(i):\n",
        "    global PATH\n",
        "    model_name = \"Ex1_model\" + str(i) + \".h\" \n",
        "    return load_model(PATH + model_name)"
      ],
      "metadata": {
        "id": "Dw-ZS6CIU4uP"
      },
      "execution_count": 181,
      "outputs": []
    },
    {
      "cell_type": "code",
      "source": [
        "# Built the model\n",
        "def Built_model():\n",
        "    model = Sequential()\n",
        "\n",
        "    global RESHAPED, DROPOUT\n",
        "    model.add(\n",
        "        Dense(\n",
        "            N_HIDDEN,\n",
        "            input_shape = (RESHAPED,),\n",
        "            name = 'dense_layer',\n",
        "            activation = 'relu'\n",
        "        )\n",
        "    )\n",
        "\n",
        "    model.add(\n",
        "        Dropout(DROPOUT)\n",
        "    )\n",
        "\n",
        "    model.add(\n",
        "        Dense(\n",
        "            N_HIDDEN,\n",
        "            name = 'dense_layer2',\n",
        "            activation = 'relu'\n",
        "        )\n",
        "    )\n",
        "\n",
        "    model.add(\n",
        "        Dropout(DROPOUT)\n",
        "    )\n",
        "\n",
        "    model.add(\n",
        "        Dense(\n",
        "            NB_CLASS,\n",
        "            name = 'dense_layer3',\n",
        "            activation = 'softmax'\n",
        "        )\n",
        "    )\n",
        "\n",
        "    #Summary of the model\n",
        "    model.summary()\n",
        "\n",
        "    # Compiling the model\n",
        "    model.compile(\n",
        "        optimizer = 'Adam',\n",
        "        loss = 'categorical_crossentropy',\n",
        "        metrics = ['accuracy']\n",
        "    )\n",
        "\n",
        "\n",
        "    model.fit(\n",
        "        x_train,\n",
        "        y_train,\n",
        "        batch_size = BATCH_SIZE,\n",
        "        epochs = EPOCHS,\n",
        "        verbose = VERBOSE,\n",
        "        validation_split = VALIDATION_SPLIT\n",
        "    )\n",
        "\n",
        "    # Evaluating the model\n",
        "    # test_loss, test_acc = model.evaluate(x_test, y_test)\n",
        "    # print('Test accuracy: ', test_acc)\n",
        "    return model"
      ],
      "metadata": {
        "id": "HrxlYk9OVIeB"
      },
      "execution_count": 182,
      "outputs": []
    },
    {
      "cell_type": "code",
      "source": [
        "model = Built_model()"
      ],
      "metadata": {
        "colab": {
          "base_uri": "https://localhost:8080/"
        },
        "id": "5V0Q826nVUT_",
        "outputId": "a73371e1-3ba6-4c30-aef2-3ccbb1323877"
      },
      "execution_count": 183,
      "outputs": [
        {
          "output_type": "stream",
          "name": "stdout",
          "text": [
            "Model: \"sequential_5\"\n",
            "_________________________________________________________________\n",
            " Layer (type)                Output Shape              Param #   \n",
            "=================================================================\n",
            " dense_layer (Dense)         (None, 128)               2880128   \n",
            "                                                                 \n",
            " dropout_10 (Dropout)        (None, 128)               0         \n",
            "                                                                 \n",
            " dense_layer2 (Dense)        (None, 128)               16512     \n",
            "                                                                 \n",
            " dropout_11 (Dropout)        (None, 128)               0         \n",
            "                                                                 \n",
            " dense_layer3 (Dense)        (None, 2)                 258       \n",
            "                                                                 \n",
            "=================================================================\n",
            "Total params: 2,896,898\n",
            "Trainable params: 2,896,898\n",
            "Non-trainable params: 0\n",
            "_________________________________________________________________\n",
            "Epoch 1/200\n",
            "3/3 [==============================] - 1s 102ms/step - loss: 3.9381 - accuracy: 0.6458 - val_loss: 0.7779 - val_accuracy: 0.5000\n",
            "Epoch 2/200\n",
            "3/3 [==============================] - 0s 20ms/step - loss: 3.8764 - accuracy: 0.6667 - val_loss: 8.2501e-04 - val_accuracy: 1.0000\n",
            "Epoch 3/200\n",
            "3/3 [==============================] - 0s 18ms/step - loss: 9.0127 - accuracy: 0.3542 - val_loss: 5.2168 - val_accuracy: 0.0000e+00\n",
            "Epoch 4/200\n",
            "3/3 [==============================] - 0s 20ms/step - loss: 6.5297 - accuracy: 0.5625 - val_loss: 2.1846 - val_accuracy: 0.0000e+00\n",
            "Epoch 5/200\n",
            "3/3 [==============================] - 0s 26ms/step - loss: 2.4941 - accuracy: 0.5833 - val_loss: 0.0053 - val_accuracy: 1.0000\n",
            "Epoch 6/200\n",
            "3/3 [==============================] - 0s 19ms/step - loss: 5.5040 - accuracy: 0.5833 - val_loss: 0.0171 - val_accuracy: 1.0000\n",
            "Epoch 7/200\n",
            "3/3 [==============================] - 0s 19ms/step - loss: 2.6167 - accuracy: 0.5208 - val_loss: 0.2478 - val_accuracy: 1.0000\n",
            "Epoch 8/200\n",
            "3/3 [==============================] - 0s 19ms/step - loss: 2.8694 - accuracy: 0.5833 - val_loss: 0.0643 - val_accuracy: 1.0000\n",
            "Epoch 9/200\n",
            "3/3 [==============================] - 0s 22ms/step - loss: 1.8321 - accuracy: 0.5000 - val_loss: 0.0538 - val_accuracy: 1.0000\n",
            "Epoch 10/200\n",
            "3/3 [==============================] - 0s 20ms/step - loss: 1.5205 - accuracy: 0.6042 - val_loss: 0.7462 - val_accuracy: 0.6667\n",
            "Epoch 11/200\n",
            "3/3 [==============================] - 0s 22ms/step - loss: 0.9838 - accuracy: 0.5833 - val_loss: 0.6825 - val_accuracy: 0.6667\n",
            "Epoch 12/200\n",
            "3/3 [==============================] - 0s 25ms/step - loss: 0.6499 - accuracy: 0.5625 - val_loss: 0.5140 - val_accuracy: 1.0000\n",
            "Epoch 13/200\n",
            "3/3 [==============================] - 0s 21ms/step - loss: 0.7205 - accuracy: 0.4792 - val_loss: 0.4857 - val_accuracy: 1.0000\n",
            "Epoch 14/200\n",
            "3/3 [==============================] - 0s 19ms/step - loss: 0.6600 - accuracy: 0.5625 - val_loss: 0.6098 - val_accuracy: 0.8333\n",
            "Epoch 15/200\n",
            "3/3 [==============================] - 0s 20ms/step - loss: 0.6398 - accuracy: 0.6667 - val_loss: 0.7857 - val_accuracy: 0.0833\n",
            "Epoch 16/200\n",
            "3/3 [==============================] - 0s 26ms/step - loss: 0.6757 - accuracy: 0.5833 - val_loss: 0.7631 - val_accuracy: 0.0000e+00\n",
            "Epoch 17/200\n",
            "3/3 [==============================] - 0s 19ms/step - loss: 0.7013 - accuracy: 0.4583 - val_loss: 0.7482 - val_accuracy: 0.0000e+00\n",
            "Epoch 18/200\n",
            "3/3 [==============================] - 0s 28ms/step - loss: 0.7035 - accuracy: 0.5208 - val_loss: 0.7351 - val_accuracy: 0.0000e+00\n",
            "Epoch 19/200\n",
            "3/3 [==============================] - 0s 21ms/step - loss: 0.7070 - accuracy: 0.4583 - val_loss: 0.7278 - val_accuracy: 0.0000e+00\n",
            "Epoch 20/200\n",
            "3/3 [==============================] - 0s 19ms/step - loss: 0.6952 - accuracy: 0.4583 - val_loss: 0.7257 - val_accuracy: 0.0000e+00\n",
            "Epoch 21/200\n",
            "3/3 [==============================] - 0s 20ms/step - loss: 0.6875 - accuracy: 0.4583 - val_loss: 0.7222 - val_accuracy: 0.0000e+00\n",
            "Epoch 22/200\n",
            "3/3 [==============================] - 0s 20ms/step - loss: 0.6839 - accuracy: 0.4583 - val_loss: 0.7190 - val_accuracy: 0.0000e+00\n",
            "Epoch 23/200\n",
            "3/3 [==============================] - 0s 19ms/step - loss: 0.6963 - accuracy: 0.4583 - val_loss: 0.7153 - val_accuracy: 0.0000e+00\n",
            "Epoch 24/200\n",
            "3/3 [==============================] - 0s 19ms/step - loss: 0.6950 - accuracy: 0.4583 - val_loss: 0.7133 - val_accuracy: 0.0000e+00\n",
            "Epoch 25/200\n",
            "3/3 [==============================] - 0s 21ms/step - loss: 0.6859 - accuracy: 0.4583 - val_loss: 0.7129 - val_accuracy: 0.0000e+00\n",
            "Epoch 26/200\n",
            "3/3 [==============================] - 0s 25ms/step - loss: 0.6813 - accuracy: 0.4583 - val_loss: 0.7152 - val_accuracy: 0.0000e+00\n",
            "Epoch 27/200\n",
            "3/3 [==============================] - 0s 25ms/step - loss: 0.6847 - accuracy: 0.4583 - val_loss: 0.7193 - val_accuracy: 0.0000e+00\n",
            "Epoch 28/200\n",
            "3/3 [==============================] - 0s 19ms/step - loss: 0.6829 - accuracy: 0.4583 - val_loss: 0.7154 - val_accuracy: 0.0000e+00\n",
            "Epoch 29/200\n",
            "3/3 [==============================] - 0s 23ms/step - loss: 0.6822 - accuracy: 0.4792 - val_loss: 0.7064 - val_accuracy: 0.0000e+00\n",
            "Epoch 30/200\n",
            "3/3 [==============================] - 0s 19ms/step - loss: 0.6936 - accuracy: 0.4167 - val_loss: 0.6950 - val_accuracy: 0.7500\n",
            "Epoch 31/200\n",
            "3/3 [==============================] - 0s 20ms/step - loss: 0.6957 - accuracy: 0.5000 - val_loss: 0.6898 - val_accuracy: 0.9167\n",
            "Epoch 32/200\n",
            "3/3 [==============================] - 0s 20ms/step - loss: 0.6968 - accuracy: 0.5417 - val_loss: 0.6874 - val_accuracy: 1.0000\n",
            "Epoch 33/200\n",
            "3/3 [==============================] - 0s 19ms/step - loss: 0.6923 - accuracy: 0.5208 - val_loss: 0.6856 - val_accuracy: 1.0000\n",
            "Epoch 34/200\n",
            "3/3 [==============================] - 0s 19ms/step - loss: 0.6862 - accuracy: 0.5625 - val_loss: 0.6844 - val_accuracy: 1.0000\n",
            "Epoch 35/200\n",
            "3/3 [==============================] - 0s 20ms/step - loss: 0.6893 - accuracy: 0.5625 - val_loss: 0.6825 - val_accuracy: 1.0000\n",
            "Epoch 36/200\n",
            "3/3 [==============================] - 0s 19ms/step - loss: 0.6834 - accuracy: 0.5625 - val_loss: 0.6808 - val_accuracy: 1.0000\n",
            "Epoch 37/200\n",
            "3/3 [==============================] - 0s 25ms/step - loss: 0.6837 - accuracy: 0.5625 - val_loss: 0.6939 - val_accuracy: 0.9167\n",
            "Epoch 38/200\n",
            "3/3 [==============================] - 0s 19ms/step - loss: 0.6776 - accuracy: 0.5625 - val_loss: 0.7113 - val_accuracy: 0.9167\n",
            "Epoch 39/200\n",
            "3/3 [==============================] - 0s 20ms/step - loss: 0.6774 - accuracy: 0.5625 - val_loss: 0.7301 - val_accuracy: 0.8333\n",
            "Epoch 40/200\n",
            "3/3 [==============================] - 0s 19ms/step - loss: 0.6797 - accuracy: 0.5625 - val_loss: 0.7567 - val_accuracy: 0.8333\n",
            "Epoch 41/200\n",
            "3/3 [==============================] - 0s 28ms/step - loss: 0.6852 - accuracy: 0.5417 - val_loss: 0.7750 - val_accuracy: 0.7500\n",
            "Epoch 42/200\n",
            "3/3 [==============================] - 0s 21ms/step - loss: 0.6762 - accuracy: 0.5625 - val_loss: 0.7436 - val_accuracy: 0.8333\n",
            "Epoch 43/200\n",
            "3/3 [==============================] - 0s 26ms/step - loss: 0.6785 - accuracy: 0.5625 - val_loss: 0.7269 - val_accuracy: 0.8333\n",
            "Epoch 44/200\n",
            "3/3 [==============================] - 0s 21ms/step - loss: 0.6787 - accuracy: 0.5625 - val_loss: 0.7218 - val_accuracy: 0.9167\n",
            "Epoch 45/200\n",
            "3/3 [==============================] - 0s 19ms/step - loss: 0.6753 - accuracy: 0.5625 - val_loss: 0.7276 - val_accuracy: 0.8333\n",
            "Epoch 46/200\n",
            "3/3 [==============================] - 0s 19ms/step - loss: 0.6788 - accuracy: 0.5625 - val_loss: 0.7387 - val_accuracy: 0.8333\n",
            "Epoch 47/200\n",
            "3/3 [==============================] - 0s 21ms/step - loss: 0.6764 - accuracy: 0.5625 - val_loss: 0.7527 - val_accuracy: 0.8333\n",
            "Epoch 48/200\n",
            "3/3 [==============================] - 0s 22ms/step - loss: 0.6907 - accuracy: 0.5417 - val_loss: 0.6848 - val_accuracy: 0.9167\n",
            "Epoch 49/200\n",
            "3/3 [==============================] - 0s 20ms/step - loss: 0.6788 - accuracy: 0.5625 - val_loss: 0.6586 - val_accuracy: 1.0000\n",
            "Epoch 50/200\n",
            "3/3 [==============================] - 0s 23ms/step - loss: 0.6904 - accuracy: 0.5417 - val_loss: 0.6573 - val_accuracy: 1.0000\n",
            "Epoch 51/200\n",
            "3/3 [==============================] - 0s 20ms/step - loss: 0.6781 - accuracy: 0.5625 - val_loss: 0.6559 - val_accuracy: 1.0000\n",
            "Epoch 52/200\n",
            "3/3 [==============================] - 0s 20ms/step - loss: 0.6943 - accuracy: 0.5417 - val_loss: 0.6543 - val_accuracy: 1.0000\n",
            "Epoch 53/200\n",
            "3/3 [==============================] - 0s 19ms/step - loss: 0.6781 - accuracy: 0.5625 - val_loss: 0.6531 - val_accuracy: 1.0000\n",
            "Epoch 54/200\n",
            "3/3 [==============================] - 0s 19ms/step - loss: 0.6881 - accuracy: 0.5625 - val_loss: 0.6523 - val_accuracy: 1.0000\n",
            "Epoch 55/200\n",
            "3/3 [==============================] - 0s 22ms/step - loss: 0.6861 - accuracy: 0.5625 - val_loss: 0.6513 - val_accuracy: 1.0000\n",
            "Epoch 56/200\n",
            "3/3 [==============================] - 0s 20ms/step - loss: 0.6903 - accuracy: 0.5417 - val_loss: 0.6503 - val_accuracy: 1.0000\n",
            "Epoch 57/200\n",
            "3/3 [==============================] - 0s 19ms/step - loss: 0.6773 - accuracy: 0.5625 - val_loss: 0.6545 - val_accuracy: 0.9167\n",
            "Epoch 58/200\n",
            "3/3 [==============================] - 0s 20ms/step - loss: 0.6892 - accuracy: 0.5417 - val_loss: 0.6698 - val_accuracy: 0.9167\n",
            "Epoch 59/200\n",
            "3/3 [==============================] - 0s 19ms/step - loss: 0.6916 - accuracy: 0.5417 - val_loss: 0.6817 - val_accuracy: 0.9167\n",
            "Epoch 60/200\n",
            "3/3 [==============================] - 0s 23ms/step - loss: 0.6749 - accuracy: 0.5625 - val_loss: 0.6931 - val_accuracy: 0.9167\n",
            "Epoch 61/200\n",
            "3/3 [==============================] - 0s 22ms/step - loss: 0.6780 - accuracy: 0.5625 - val_loss: 0.7088 - val_accuracy: 0.9167\n",
            "Epoch 62/200\n",
            "3/3 [==============================] - 0s 22ms/step - loss: 0.6908 - accuracy: 0.5417 - val_loss: 0.7222 - val_accuracy: 0.9167\n",
            "Epoch 63/200\n",
            "3/3 [==============================] - 0s 21ms/step - loss: 0.6915 - accuracy: 0.5417 - val_loss: 0.7346 - val_accuracy: 0.9167\n",
            "Epoch 64/200\n",
            "3/3 [==============================] - 0s 21ms/step - loss: 0.6744 - accuracy: 0.5625 - val_loss: 0.7491 - val_accuracy: 0.8333\n",
            "Epoch 65/200\n",
            "3/3 [==============================] - 0s 25ms/step - loss: 0.6779 - accuracy: 0.5625 - val_loss: 0.7650 - val_accuracy: 0.8333\n",
            "Epoch 66/200\n",
            "3/3 [==============================] - 0s 39ms/step - loss: 0.6739 - accuracy: 0.5625 - val_loss: 0.7877 - val_accuracy: 0.8333\n",
            "Epoch 67/200\n",
            "3/3 [==============================] - 0s 42ms/step - loss: 0.6740 - accuracy: 0.5625 - val_loss: 0.8059 - val_accuracy: 0.8333\n",
            "Epoch 68/200\n",
            "3/3 [==============================] - 0s 20ms/step - loss: 0.6749 - accuracy: 0.5625 - val_loss: 0.8200 - val_accuracy: 0.8333\n",
            "Epoch 69/200\n",
            "3/3 [==============================] - 0s 21ms/step - loss: 0.6738 - accuracy: 0.5625 - val_loss: 0.8331 - val_accuracy: 0.8333\n",
            "Epoch 70/200\n",
            "3/3 [==============================] - 0s 20ms/step - loss: 0.6906 - accuracy: 0.5417 - val_loss: 0.8456 - val_accuracy: 0.7500\n",
            "Epoch 71/200\n",
            "3/3 [==============================] - 0s 20ms/step - loss: 0.6763 - accuracy: 0.5625 - val_loss: 1.3079 - val_accuracy: 0.5000\n",
            "Epoch 72/200\n",
            "3/3 [==============================] - 0s 19ms/step - loss: 0.7104 - accuracy: 0.5000 - val_loss: 0.6368 - val_accuracy: 1.0000\n",
            "Epoch 73/200\n",
            "3/3 [==============================] - 0s 20ms/step - loss: 0.6895 - accuracy: 0.5417 - val_loss: 0.6357 - val_accuracy: 1.0000\n",
            "Epoch 74/200\n",
            "3/3 [==============================] - 0s 19ms/step - loss: 0.6907 - accuracy: 0.5417 - val_loss: 0.6350 - val_accuracy: 1.0000\n",
            "Epoch 75/200\n",
            "3/3 [==============================] - 0s 20ms/step - loss: 0.6903 - accuracy: 0.5417 - val_loss: 0.6348 - val_accuracy: 1.0000\n",
            "Epoch 76/200\n",
            "3/3 [==============================] - 0s 31ms/step - loss: 0.6886 - accuracy: 0.5417 - val_loss: 0.6341 - val_accuracy: 1.0000\n",
            "Epoch 77/200\n",
            "3/3 [==============================] - 0s 19ms/step - loss: 0.6889 - accuracy: 0.5417 - val_loss: 0.6337 - val_accuracy: 1.0000\n",
            "Epoch 78/200\n",
            "3/3 [==============================] - 0s 20ms/step - loss: 0.6885 - accuracy: 0.5417 - val_loss: 0.6328 - val_accuracy: 1.0000\n",
            "Epoch 79/200\n",
            "3/3 [==============================] - 0s 20ms/step - loss: 0.6894 - accuracy: 0.5417 - val_loss: 0.6320 - val_accuracy: 1.0000\n",
            "Epoch 80/200\n",
            "3/3 [==============================] - 0s 20ms/step - loss: 0.6904 - accuracy: 0.5417 - val_loss: 0.6321 - val_accuracy: 1.0000\n",
            "Epoch 81/200\n",
            "3/3 [==============================] - 0s 20ms/step - loss: 0.6905 - accuracy: 0.5417 - val_loss: 0.6316 - val_accuracy: 1.0000\n",
            "Epoch 82/200\n",
            "3/3 [==============================] - 0s 28ms/step - loss: 0.6909 - accuracy: 0.5417 - val_loss: 0.6313 - val_accuracy: 1.0000\n",
            "Epoch 83/200\n",
            "3/3 [==============================] - 0s 20ms/step - loss: 0.6906 - accuracy: 0.5417 - val_loss: 0.6311 - val_accuracy: 1.0000\n",
            "Epoch 84/200\n",
            "3/3 [==============================] - 0s 20ms/step - loss: 0.6908 - accuracy: 0.5417 - val_loss: 0.6305 - val_accuracy: 1.0000\n",
            "Epoch 85/200\n",
            "3/3 [==============================] - 0s 21ms/step - loss: 0.6901 - accuracy: 0.5417 - val_loss: 0.6300 - val_accuracy: 1.0000\n",
            "Epoch 86/200\n",
            "3/3 [==============================] - 0s 21ms/step - loss: 0.6895 - accuracy: 0.5417 - val_loss: 0.6295 - val_accuracy: 1.0000\n",
            "Epoch 87/200\n",
            "3/3 [==============================] - 0s 20ms/step - loss: 0.6891 - accuracy: 0.5417 - val_loss: 0.6291 - val_accuracy: 1.0000\n",
            "Epoch 88/200\n",
            "3/3 [==============================] - 0s 20ms/step - loss: 0.6912 - accuracy: 0.5417 - val_loss: 0.6289 - val_accuracy: 1.0000\n",
            "Epoch 89/200\n",
            "3/3 [==============================] - 0s 20ms/step - loss: 0.6904 - accuracy: 0.5417 - val_loss: 0.6287 - val_accuracy: 1.0000\n",
            "Epoch 90/200\n",
            "3/3 [==============================] - 0s 21ms/step - loss: 0.6894 - accuracy: 0.5417 - val_loss: 0.6283 - val_accuracy: 1.0000\n",
            "Epoch 91/200\n",
            "3/3 [==============================] - 0s 21ms/step - loss: 0.6912 - accuracy: 0.5417 - val_loss: 0.6281 - val_accuracy: 1.0000\n",
            "Epoch 92/200\n",
            "3/3 [==============================] - 0s 20ms/step - loss: 0.6883 - accuracy: 0.5417 - val_loss: 0.6277 - val_accuracy: 1.0000\n",
            "Epoch 93/200\n",
            "3/3 [==============================] - 0s 24ms/step - loss: 0.6908 - accuracy: 0.5417 - val_loss: 0.6274 - val_accuracy: 1.0000\n",
            "Epoch 94/200\n",
            "3/3 [==============================] - 0s 21ms/step - loss: 0.6889 - accuracy: 0.5417 - val_loss: 0.6272 - val_accuracy: 1.0000\n",
            "Epoch 95/200\n",
            "3/3 [==============================] - 0s 20ms/step - loss: 0.6898 - accuracy: 0.5417 - val_loss: 0.6268 - val_accuracy: 1.0000\n",
            "Epoch 96/200\n",
            "3/3 [==============================] - 0s 20ms/step - loss: 0.6902 - accuracy: 0.5417 - val_loss: 0.6267 - val_accuracy: 1.0000\n",
            "Epoch 97/200\n",
            "3/3 [==============================] - 0s 20ms/step - loss: 0.6900 - accuracy: 0.5417 - val_loss: 0.6262 - val_accuracy: 1.0000\n",
            "Epoch 98/200\n",
            "3/3 [==============================] - 0s 19ms/step - loss: 0.6893 - accuracy: 0.5417 - val_loss: 0.6259 - val_accuracy: 1.0000\n",
            "Epoch 99/200\n",
            "3/3 [==============================] - 0s 22ms/step - loss: 0.6899 - accuracy: 0.5417 - val_loss: 0.6261 - val_accuracy: 1.0000\n",
            "Epoch 100/200\n",
            "3/3 [==============================] - 0s 21ms/step - loss: 0.6880 - accuracy: 0.5417 - val_loss: 0.6259 - val_accuracy: 1.0000\n",
            "Epoch 101/200\n",
            "3/3 [==============================] - 0s 21ms/step - loss: 0.6899 - accuracy: 0.5417 - val_loss: 0.6256 - val_accuracy: 1.0000\n",
            "Epoch 102/200\n",
            "3/3 [==============================] - 0s 20ms/step - loss: 0.6898 - accuracy: 0.5417 - val_loss: 0.6255 - val_accuracy: 1.0000\n",
            "Epoch 103/200\n",
            "3/3 [==============================] - 0s 20ms/step - loss: 0.6914 - accuracy: 0.5417 - val_loss: 0.6252 - val_accuracy: 1.0000\n",
            "Epoch 104/200\n",
            "3/3 [==============================] - 0s 27ms/step - loss: 0.6897 - accuracy: 0.5417 - val_loss: 0.6251 - val_accuracy: 1.0000\n",
            "Epoch 105/200\n",
            "3/3 [==============================] - 0s 21ms/step - loss: 0.6894 - accuracy: 0.5417 - val_loss: 0.6247 - val_accuracy: 1.0000\n",
            "Epoch 106/200\n",
            "3/3 [==============================] - 0s 23ms/step - loss: 0.6893 - accuracy: 0.5417 - val_loss: 0.6244 - val_accuracy: 1.0000\n",
            "Epoch 107/200\n",
            "3/3 [==============================] - 0s 22ms/step - loss: 0.6900 - accuracy: 0.5417 - val_loss: 0.6240 - val_accuracy: 1.0000\n",
            "Epoch 108/200\n",
            "3/3 [==============================] - 0s 20ms/step - loss: 0.6893 - accuracy: 0.5417 - val_loss: 0.6238 - val_accuracy: 1.0000\n",
            "Epoch 109/200\n",
            "3/3 [==============================] - 0s 21ms/step - loss: 0.6889 - accuracy: 0.5417 - val_loss: 0.6234 - val_accuracy: 1.0000\n",
            "Epoch 110/200\n",
            "3/3 [==============================] - 0s 21ms/step - loss: 0.6888 - accuracy: 0.5417 - val_loss: 0.6230 - val_accuracy: 1.0000\n",
            "Epoch 111/200\n",
            "3/3 [==============================] - 0s 21ms/step - loss: 0.6887 - accuracy: 0.5417 - val_loss: 0.6226 - val_accuracy: 1.0000\n",
            "Epoch 112/200\n",
            "3/3 [==============================] - 0s 21ms/step - loss: 0.6899 - accuracy: 0.5417 - val_loss: 0.6224 - val_accuracy: 1.0000\n",
            "Epoch 113/200\n",
            "3/3 [==============================] - 0s 23ms/step - loss: 0.6880 - accuracy: 0.5417 - val_loss: 0.6216 - val_accuracy: 1.0000\n",
            "Epoch 114/200\n",
            "3/3 [==============================] - 0s 21ms/step - loss: 0.6908 - accuracy: 0.5417 - val_loss: 0.6209 - val_accuracy: 1.0000\n",
            "Epoch 115/200\n",
            "3/3 [==============================] - 0s 21ms/step - loss: 0.6886 - accuracy: 0.5417 - val_loss: 0.6211 - val_accuracy: 1.0000\n",
            "Epoch 116/200\n",
            "3/3 [==============================] - 0s 20ms/step - loss: 0.6889 - accuracy: 0.5417 - val_loss: 0.6208 - val_accuracy: 1.0000\n",
            "Epoch 117/200\n",
            "3/3 [==============================] - 0s 21ms/step - loss: 0.6908 - accuracy: 0.5417 - val_loss: 0.6206 - val_accuracy: 1.0000\n",
            "Epoch 118/200\n",
            "3/3 [==============================] - 0s 20ms/step - loss: 0.6907 - accuracy: 0.5417 - val_loss: 0.6208 - val_accuracy: 1.0000\n",
            "Epoch 119/200\n",
            "3/3 [==============================] - 0s 21ms/step - loss: 0.6909 - accuracy: 0.5417 - val_loss: 0.6210 - val_accuracy: 1.0000\n",
            "Epoch 120/200\n",
            "3/3 [==============================] - 0s 20ms/step - loss: 0.6880 - accuracy: 0.5417 - val_loss: 0.6208 - val_accuracy: 1.0000\n",
            "Epoch 121/200\n",
            "3/3 [==============================] - 0s 21ms/step - loss: 0.6906 - accuracy: 0.5417 - val_loss: 0.6209 - val_accuracy: 1.0000\n",
            "Epoch 122/200\n",
            "3/3 [==============================] - 0s 20ms/step - loss: 0.6881 - accuracy: 0.5417 - val_loss: 0.6207 - val_accuracy: 1.0000\n",
            "Epoch 123/200\n",
            "3/3 [==============================] - 0s 20ms/step - loss: 0.6880 - accuracy: 0.5417 - val_loss: 0.6206 - val_accuracy: 1.0000\n",
            "Epoch 124/200\n",
            "3/3 [==============================] - 0s 21ms/step - loss: 0.6908 - accuracy: 0.5417 - val_loss: 0.6200 - val_accuracy: 1.0000\n",
            "Epoch 125/200\n",
            "3/3 [==============================] - 0s 20ms/step - loss: 0.6903 - accuracy: 0.5417 - val_loss: 0.6204 - val_accuracy: 1.0000\n",
            "Epoch 126/200\n",
            "3/3 [==============================] - 0s 20ms/step - loss: 0.6893 - accuracy: 0.5417 - val_loss: 0.6200 - val_accuracy: 1.0000\n",
            "Epoch 127/200\n",
            "3/3 [==============================] - 0s 24ms/step - loss: 0.6878 - accuracy: 0.5417 - val_loss: 0.6198 - val_accuracy: 1.0000\n",
            "Epoch 128/200\n",
            "3/3 [==============================] - 0s 21ms/step - loss: 0.6909 - accuracy: 0.5417 - val_loss: 0.6196 - val_accuracy: 1.0000\n",
            "Epoch 129/200\n",
            "3/3 [==============================] - 0s 21ms/step - loss: 0.6893 - accuracy: 0.5417 - val_loss: 0.6192 - val_accuracy: 1.0000\n",
            "Epoch 130/200\n",
            "3/3 [==============================] - 0s 21ms/step - loss: 0.6867 - accuracy: 0.5417 - val_loss: 0.6189 - val_accuracy: 1.0000\n",
            "Epoch 131/200\n",
            "3/3 [==============================] - 0s 20ms/step - loss: 0.6888 - accuracy: 0.5417 - val_loss: 0.6185 - val_accuracy: 1.0000\n",
            "Epoch 132/200\n",
            "3/3 [==============================] - 0s 21ms/step - loss: 0.6892 - accuracy: 0.5417 - val_loss: 0.6188 - val_accuracy: 1.0000\n",
            "Epoch 133/200\n",
            "3/3 [==============================] - 0s 20ms/step - loss: 0.6892 - accuracy: 0.5417 - val_loss: 0.6190 - val_accuracy: 1.0000\n",
            "Epoch 134/200\n",
            "3/3 [==============================] - 0s 22ms/step - loss: 0.6917 - accuracy: 0.5417 - val_loss: 0.6186 - val_accuracy: 1.0000\n",
            "Epoch 135/200\n",
            "3/3 [==============================] - 0s 21ms/step - loss: 0.6896 - accuracy: 0.5417 - val_loss: 0.6182 - val_accuracy: 1.0000\n",
            "Epoch 136/200\n",
            "3/3 [==============================] - 0s 24ms/step - loss: 0.6906 - accuracy: 0.5417 - val_loss: 0.6183 - val_accuracy: 1.0000\n",
            "Epoch 137/200\n",
            "3/3 [==============================] - 0s 22ms/step - loss: 0.6892 - accuracy: 0.5417 - val_loss: 0.6180 - val_accuracy: 1.0000\n",
            "Epoch 138/200\n",
            "3/3 [==============================] - 0s 29ms/step - loss: 0.6901 - accuracy: 0.5417 - val_loss: 0.6181 - val_accuracy: 1.0000\n",
            "Epoch 139/200\n",
            "3/3 [==============================] - 0s 21ms/step - loss: 0.6903 - accuracy: 0.5417 - val_loss: 0.6182 - val_accuracy: 1.0000\n",
            "Epoch 140/200\n",
            "3/3 [==============================] - 0s 21ms/step - loss: 0.6891 - accuracy: 0.5417 - val_loss: 0.6177 - val_accuracy: 1.0000\n",
            "Epoch 141/200\n",
            "3/3 [==============================] - 0s 20ms/step - loss: 0.6893 - accuracy: 0.5417 - val_loss: 0.6178 - val_accuracy: 1.0000\n",
            "Epoch 142/200\n",
            "3/3 [==============================] - 0s 29ms/step - loss: 0.6889 - accuracy: 0.5417 - val_loss: 0.6181 - val_accuracy: 1.0000\n",
            "Epoch 143/200\n",
            "3/3 [==============================] - 0s 25ms/step - loss: 0.6905 - accuracy: 0.5417 - val_loss: 0.6182 - val_accuracy: 1.0000\n",
            "Epoch 144/200\n",
            "3/3 [==============================] - 0s 21ms/step - loss: 0.6901 - accuracy: 0.5417 - val_loss: 0.6178 - val_accuracy: 1.0000\n",
            "Epoch 145/200\n",
            "3/3 [==============================] - 0s 20ms/step - loss: 0.6930 - accuracy: 0.5417 - val_loss: 0.6179 - val_accuracy: 1.0000\n",
            "Epoch 146/200\n",
            "3/3 [==============================] - 0s 24ms/step - loss: 0.6909 - accuracy: 0.5417 - val_loss: 0.6181 - val_accuracy: 1.0000\n",
            "Epoch 147/200\n",
            "3/3 [==============================] - 0s 21ms/step - loss: 0.6884 - accuracy: 0.5417 - val_loss: 0.6181 - val_accuracy: 1.0000\n",
            "Epoch 148/200\n",
            "3/3 [==============================] - 0s 20ms/step - loss: 0.6902 - accuracy: 0.5417 - val_loss: 0.6181 - val_accuracy: 1.0000\n",
            "Epoch 149/200\n",
            "3/3 [==============================] - 0s 20ms/step - loss: 0.6904 - accuracy: 0.5417 - val_loss: 0.6185 - val_accuracy: 1.0000\n",
            "Epoch 150/200\n",
            "3/3 [==============================] - 0s 20ms/step - loss: 0.6915 - accuracy: 0.5417 - val_loss: 0.6183 - val_accuracy: 1.0000\n",
            "Epoch 151/200\n",
            "3/3 [==============================] - 0s 24ms/step - loss: 0.6897 - accuracy: 0.5417 - val_loss: 0.6183 - val_accuracy: 1.0000\n",
            "Epoch 152/200\n",
            "3/3 [==============================] - 0s 21ms/step - loss: 0.6882 - accuracy: 0.5417 - val_loss: 0.6182 - val_accuracy: 1.0000\n",
            "Epoch 153/200\n",
            "3/3 [==============================] - 0s 20ms/step - loss: 0.6901 - accuracy: 0.5417 - val_loss: 0.6178 - val_accuracy: 1.0000\n",
            "Epoch 154/200\n",
            "3/3 [==============================] - 0s 21ms/step - loss: 0.6887 - accuracy: 0.5417 - val_loss: 0.6176 - val_accuracy: 1.0000\n",
            "Epoch 155/200\n",
            "3/3 [==============================] - 0s 21ms/step - loss: 0.6915 - accuracy: 0.5417 - val_loss: 0.6180 - val_accuracy: 1.0000\n",
            "Epoch 156/200\n",
            "3/3 [==============================] - 0s 22ms/step - loss: 0.6876 - accuracy: 0.5417 - val_loss: 0.6179 - val_accuracy: 1.0000\n",
            "Epoch 157/200\n",
            "3/3 [==============================] - 0s 21ms/step - loss: 0.6913 - accuracy: 0.5417 - val_loss: 0.6179 - val_accuracy: 1.0000\n",
            "Epoch 158/200\n",
            "3/3 [==============================] - 0s 21ms/step - loss: 0.6901 - accuracy: 0.5417 - val_loss: 0.6177 - val_accuracy: 1.0000\n",
            "Epoch 159/200\n",
            "3/3 [==============================] - 0s 23ms/step - loss: 0.6897 - accuracy: 0.5417 - val_loss: 0.6176 - val_accuracy: 1.0000\n",
            "Epoch 160/200\n",
            "3/3 [==============================] - 0s 22ms/step - loss: 0.6880 - accuracy: 0.5417 - val_loss: 0.6179 - val_accuracy: 1.0000\n",
            "Epoch 161/200\n",
            "3/3 [==============================] - 0s 21ms/step - loss: 0.6887 - accuracy: 0.5417 - val_loss: 0.6176 - val_accuracy: 1.0000\n",
            "Epoch 162/200\n",
            "3/3 [==============================] - 0s 22ms/step - loss: 0.6918 - accuracy: 0.5417 - val_loss: 0.6175 - val_accuracy: 1.0000\n",
            "Epoch 163/200\n",
            "3/3 [==============================] - 0s 21ms/step - loss: 0.6880 - accuracy: 0.5417 - val_loss: 0.6172 - val_accuracy: 1.0000\n",
            "Epoch 164/200\n",
            "3/3 [==============================] - 0s 20ms/step - loss: 0.6888 - accuracy: 0.5417 - val_loss: 0.6172 - val_accuracy: 1.0000\n",
            "Epoch 165/200\n",
            "3/3 [==============================] - 0s 21ms/step - loss: 0.6905 - accuracy: 0.5417 - val_loss: 0.6173 - val_accuracy: 1.0000\n",
            "Epoch 166/200\n",
            "3/3 [==============================] - 0s 20ms/step - loss: 0.6889 - accuracy: 0.5417 - val_loss: 0.6173 - val_accuracy: 1.0000\n",
            "Epoch 167/200\n",
            "3/3 [==============================] - 0s 21ms/step - loss: 0.6902 - accuracy: 0.5417 - val_loss: 0.6169 - val_accuracy: 1.0000\n",
            "Epoch 168/200\n",
            "3/3 [==============================] - 0s 21ms/step - loss: 0.6888 - accuracy: 0.5417 - val_loss: 0.6169 - val_accuracy: 1.0000\n",
            "Epoch 169/200\n",
            "3/3 [==============================] - 0s 21ms/step - loss: 0.6901 - accuracy: 0.5417 - val_loss: 0.6167 - val_accuracy: 1.0000\n",
            "Epoch 170/200\n",
            "3/3 [==============================] - 0s 20ms/step - loss: 0.6928 - accuracy: 0.5417 - val_loss: 0.6167 - val_accuracy: 1.0000\n",
            "Epoch 171/200\n",
            "3/3 [==============================] - 0s 21ms/step - loss: 0.6908 - accuracy: 0.5417 - val_loss: 0.6169 - val_accuracy: 1.0000\n",
            "Epoch 172/200\n",
            "3/3 [==============================] - 0s 21ms/step - loss: 0.6897 - accuracy: 0.5417 - val_loss: 0.6170 - val_accuracy: 1.0000\n",
            "Epoch 173/200\n",
            "3/3 [==============================] - 0s 21ms/step - loss: 0.6903 - accuracy: 0.5417 - val_loss: 0.6166 - val_accuracy: 1.0000\n",
            "Epoch 174/200\n",
            "3/3 [==============================] - 0s 22ms/step - loss: 0.6902 - accuracy: 0.5417 - val_loss: 0.6172 - val_accuracy: 1.0000\n",
            "Epoch 175/200\n",
            "3/3 [==============================] - 0s 21ms/step - loss: 0.6879 - accuracy: 0.5417 - val_loss: 0.6173 - val_accuracy: 1.0000\n",
            "Epoch 176/200\n",
            "3/3 [==============================] - 0s 21ms/step - loss: 0.6922 - accuracy: 0.5417 - val_loss: 0.6174 - val_accuracy: 1.0000\n",
            "Epoch 177/200\n",
            "3/3 [==============================] - 0s 21ms/step - loss: 0.6905 - accuracy: 0.5417 - val_loss: 0.6170 - val_accuracy: 1.0000\n",
            "Epoch 178/200\n",
            "3/3 [==============================] - 0s 22ms/step - loss: 0.6906 - accuracy: 0.5417 - val_loss: 0.6168 - val_accuracy: 1.0000\n",
            "Epoch 179/200\n",
            "3/3 [==============================] - 0s 20ms/step - loss: 0.6895 - accuracy: 0.5417 - val_loss: 0.6165 - val_accuracy: 1.0000\n",
            "Epoch 180/200\n",
            "3/3 [==============================] - 0s 21ms/step - loss: 0.6882 - accuracy: 0.5417 - val_loss: 0.6165 - val_accuracy: 1.0000\n",
            "Epoch 181/200\n",
            "3/3 [==============================] - 0s 24ms/step - loss: 0.6890 - accuracy: 0.5417 - val_loss: 0.6164 - val_accuracy: 1.0000\n",
            "Epoch 182/200\n",
            "3/3 [==============================] - 0s 22ms/step - loss: 0.6922 - accuracy: 0.5417 - val_loss: 0.6163 - val_accuracy: 1.0000\n",
            "Epoch 183/200\n",
            "3/3 [==============================] - 0s 22ms/step - loss: 0.6894 - accuracy: 0.5417 - val_loss: 0.6163 - val_accuracy: 1.0000\n",
            "Epoch 184/200\n",
            "3/3 [==============================] - 0s 21ms/step - loss: 0.6880 - accuracy: 0.5417 - val_loss: 0.6163 - val_accuracy: 1.0000\n",
            "Epoch 185/200\n",
            "3/3 [==============================] - 0s 21ms/step - loss: 0.6910 - accuracy: 0.5417 - val_loss: 0.6165 - val_accuracy: 1.0000\n",
            "Epoch 186/200\n",
            "3/3 [==============================] - 0s 20ms/step - loss: 0.6907 - accuracy: 0.5417 - val_loss: 0.6162 - val_accuracy: 1.0000\n",
            "Epoch 187/200\n",
            "3/3 [==============================] - 0s 21ms/step - loss: 0.6883 - accuracy: 0.5417 - val_loss: 0.6161 - val_accuracy: 1.0000\n",
            "Epoch 188/200\n",
            "3/3 [==============================] - 0s 24ms/step - loss: 0.6902 - accuracy: 0.5417 - val_loss: 0.6160 - val_accuracy: 1.0000\n",
            "Epoch 189/200\n",
            "3/3 [==============================] - 0s 22ms/step - loss: 0.6898 - accuracy: 0.5417 - val_loss: 0.6167 - val_accuracy: 1.0000\n",
            "Epoch 190/200\n",
            "3/3 [==============================] - 0s 24ms/step - loss: 0.6904 - accuracy: 0.5417 - val_loss: 0.6167 - val_accuracy: 1.0000\n",
            "Epoch 191/200\n",
            "3/3 [==============================] - 0s 27ms/step - loss: 0.6907 - accuracy: 0.5417 - val_loss: 0.6169 - val_accuracy: 1.0000\n",
            "Epoch 192/200\n",
            "3/3 [==============================] - 0s 22ms/step - loss: 0.6921 - accuracy: 0.5417 - val_loss: 0.6167 - val_accuracy: 1.0000\n",
            "Epoch 193/200\n",
            "3/3 [==============================] - 0s 34ms/step - loss: 0.6878 - accuracy: 0.5417 - val_loss: 0.6168 - val_accuracy: 1.0000\n",
            "Epoch 194/200\n",
            "3/3 [==============================] - 0s 21ms/step - loss: 0.6892 - accuracy: 0.5417 - val_loss: 0.6169 - val_accuracy: 1.0000\n",
            "Epoch 195/200\n",
            "3/3 [==============================] - 0s 21ms/step - loss: 0.6876 - accuracy: 0.5417 - val_loss: 0.6167 - val_accuracy: 1.0000\n",
            "Epoch 196/200\n",
            "3/3 [==============================] - 0s 21ms/step - loss: 0.6897 - accuracy: 0.5417 - val_loss: 0.6168 - val_accuracy: 1.0000\n",
            "Epoch 197/200\n",
            "3/3 [==============================] - 0s 21ms/step - loss: 0.6888 - accuracy: 0.5417 - val_loss: 0.6159 - val_accuracy: 1.0000\n",
            "Epoch 198/200\n",
            "3/3 [==============================] - 0s 22ms/step - loss: 0.6910 - accuracy: 0.5417 - val_loss: 0.6155 - val_accuracy: 1.0000\n",
            "Epoch 199/200\n",
            "3/3 [==============================] - 0s 21ms/step - loss: 0.6898 - accuracy: 0.5417 - val_loss: 0.6156 - val_accuracy: 1.0000\n",
            "Epoch 200/200\n",
            "3/3 [==============================] - 0s 21ms/step - loss: 0.6896 - accuracy: 0.5417 - val_loss: 0.6159 - val_accuracy: 1.0000\n"
          ]
        }
      ]
    },
    {
      "cell_type": "code",
      "source": [
        "Save_model(2, model)"
      ],
      "metadata": {
        "colab": {
          "base_uri": "https://localhost:8080/"
        },
        "id": "4m8pktPYXlgz",
        "outputId": "e2ba2b8d-5f1a-43c9-96ca-06623b011c5e"
      },
      "execution_count": 184,
      "outputs": [
        {
          "output_type": "stream",
          "name": "stdout",
          "text": [
            "INFO:tensorflow:Assets written to: /content/drive/MyDrive/Colab Notebooks/AI/ANN_Execises/Ex1_model2.h/assets\n"
          ]
        }
      ]
    },
    {
      "cell_type": "code",
      "source": [
        "# Upload file from computer to Colab\n",
        "\n",
        "# Import\n",
        "from google.colab import files\n",
        "uploaded = files.upload()"
      ],
      "metadata": {
        "colab": {
          "resources": {
            "http://localhost:8080/nbextensions/google.colab/files.js": {
              "data": "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",
              "ok": true,
              "headers": [
                [
                  "content-type",
                  "application/javascript"
                ]
              ],
              "status": 200,
              "status_text": ""
            }
          },
          "base_uri": "https://localhost:8080/",
          "height": 73
        },
        "id": "1Bp4CFQWge7Q",
        "outputId": "09fd87b3-1299-429f-d059-828ad50f4ddf"
      },
      "execution_count": 188,
      "outputs": [
        {
          "output_type": "display_data",
          "data": {
            "text/plain": [
              "<IPython.core.display.HTML object>"
            ],
            "text/html": [
              "\n",
              "     <input type=\"file\" id=\"files-03b88b27-8571-44b2-ab74-d81118efe54e\" name=\"files[]\" multiple disabled\n",
              "        style=\"border:none\" />\n",
              "     <output id=\"result-03b88b27-8571-44b2-ab74-d81118efe54e\">\n",
              "      Upload widget is only available when the cell has been executed in the\n",
              "      current browser session. Please rerun this cell to enable.\n",
              "      </output>\n",
              "      <script src=\"/nbextensions/google.colab/files.js\"></script> "
            ]
          },
          "metadata": {}
        },
        {
          "output_type": "stream",
          "name": "stdout",
          "text": [
            "Saving 10.jpg to 10.jpg\n"
          ]
        }
      ]
    },
    {
      "cell_type": "code",
      "source": [
        "model = Load_model(1)\n",
        "Who_I_Am = [\n",
        "            \"Not Thanh\",\n",
        "            \"Thanh\"\n",
        "]\n",
        "\n",
        "img = cv2.imread(\"10.jpg\")\n",
        "min = np.min(img.shape[:2])    \n",
        "img = img[:min, :min]\n",
        "img = cv2.resize(img, IMG_SIZE)\n",
        "show_rgb_img(img)\n",
        "img = cv2.cvtColor(img, cv2.COLOR_BGR2GRAY)\n",
        "img = img.reshape(1, RESHAPED)\n",
        "# print(img.shape)\n",
        "img = img.astype('float32')\n",
        "img /= 255\n",
        "\n",
        "predictions = model.predict(img)\n",
        "print(Who_I_Am[np.argmax(predictions, axis = 1)[0]])"
      ],
      "metadata": {
        "colab": {
          "base_uri": "https://localhost:8080/",
          "height": 287
        },
        "id": "Gpzn6GRhYRLw",
        "outputId": "d9f87d0c-2e9b-4b26-ed61-04e3a3f94636"
      },
      "execution_count": 191,
      "outputs": [
        {
          "output_type": "display_data",
          "data": {
            "text/plain": [
              "<Figure size 432x288 with 2 Axes>"
            ],
            "image/png": "[encoded data removed]"
          },
          "metadata": {
            "needs_background": "light"
          }
        },
        {
          "output_type": "stream",
          "name": "stdout",
          "text": [
            "Thanh\n"
          ]
        }
      ]
    }
  ]
}
