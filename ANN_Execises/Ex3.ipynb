{
  "nbformat": 4,
  "nbformat_minor": 0,
  "metadata": {
    "colab": {
      "name": "Ex3.ipynb",
      "provenance": [],
      "collapsed_sections": [],
      "authorship_tag": "ABX9TyO11DdKZM71/TSwI5jMnUQJ",
      "include_colab_link": true
    },
    "kernelspec": {
      "name": "python3",
      "display_name": "Python 3"
    },
    "language_info": {
      "name": "python"
    }
  },
  "cells": [
    {
      "cell_type": "markdown",
      "metadata": {
        "id": "view-in-github",
        "colab_type": "text"
      },
      "source": [
        "<a href=\"https://colab.research.google.com/github/thanhnt19146391/thanhnt19146391/blob/main/Ex3.ipynb\" target=\"_parent\"><img src=\"https://colab.research.google.com/assets/colab-badge.svg\" alt=\"Open In Colab\"/></a>"
      ]
    },
    {
      "cell_type": "code",
      "execution_count": 3,
      "metadata": {
        "id": "4N0kV96Q2TpS"
      },
      "outputs": [],
      "source": [
        "import numpy as np\n",
        "from sklearn.preprocessing import StandardScaler\n",
        "from sklearn.utils import shuffle\n",
        "\n",
        "# Define Variables\n",
        "l1 = 40\n",
        "l2 = 50\n",
        "l3 = 20\n",
        "x_train = []\n",
        "y_train = []\n",
        "\n",
        "# Create Data\n",
        "for t1 in np.linspace(-(2 * np.pi), 2 * np.pi, 200):\n",
        "  for t2 in np.linspace(-(2 * np.pi), 2 * np.pi, 200):\n",
        "    for t3 in np.linspace(-(2 * np.pi), 2 * np.pi, 200):\n",
        "      x = l1*np.cos(t1) + l2*np.cos(t1+t2) + l3*np.cos(t1+t2+t3)\n",
        "      y = l1*np.sin(t1) + l2*np.sin(t1+t2) + l3*np.sin(t1+t2+t3)\n",
        "      beta = (t1 + t2 + t3)*180/3.14\n",
        "      x_train.append(np.array([x,y,beta]))\n",
        "      y_train.append(np.array([t1,t2,t3]))\n",
        "\n",
        "# Convert to array\n",
        "scaler = StandardScaler()\n",
        "x_train = np.array(scaler.fit_transform(x_train))\n",
        "y_train = np.array(y_train)\n",
        "\n",
        "# Shuffe\n",
        "x_train, y_train = shuffle(x_train, y_train)"
      ]
    },
    {
      "cell_type": "code",
      "source": [
        "from keras.models import Sequential\n",
        "from keras.layers import Dense\n",
        "from tensorflow.keras.optimizers import Adam\n",
        "\n",
        "model = Sequential()\n",
        "model.add(Dense(256, activation = 'relu', input_shape = (3,)))\n",
        "model.add(Dense(256, activation = 'relu'))\n",
        "model.add(Dense(3, activation = 'linear'))\n",
        "\n",
        "model.compile(loss = 'mae', optimizer = Adam(learning_rate=0.0001))\n",
        "\n",
        "history = model.fit(x_train, y_train, batch_size = 512, epochs = 10, validation_split = 0.2)"
      ],
      "metadata": {
        "colab": {
          "base_uri": "https://localhost:8080/"
        },
        "id": "KejokOHv3MxF",
        "outputId": "5686cc7e-1f47-4d41-97ff-a4b3bda43475"
      },
      "execution_count": 4,
      "outputs": [
        {
          "output_type": "stream",
          "name": "stdout",
          "text": [
            "Epoch 1/10\n",
            "12500/12500 [==============================] - 141s 11ms/step - loss: 2.3469 - val_loss: 2.3135\n",
            "Epoch 2/10\n",
            "12500/12500 [==============================] - 117s 9ms/step - loss: 2.3026 - val_loss: 2.2937\n",
            "Epoch 3/10\n",
            "12500/12500 [==============================] - 111s 9ms/step - loss: 2.2864 - val_loss: 2.2796\n",
            "Epoch 4/10\n",
            "12500/12500 [==============================] - 102s 8ms/step - loss: 2.2736 - val_loss: 2.2679\n",
            "Epoch 5/10\n",
            "12500/12500 [==============================] - 103s 8ms/step - loss: 2.2628 - val_loss: 2.2577\n",
            "Epoch 6/10\n",
            "12500/12500 [==============================] - 103s 8ms/step - loss: 2.2534 - val_loss: 2.2495\n",
            "Epoch 7/10\n",
            "12500/12500 [==============================] - 108s 9ms/step - loss: 2.2458 - val_loss: 2.2422\n",
            "Epoch 8/10\n",
            "12500/12500 [==============================] - 106s 8ms/step - loss: 2.2398 - val_loss: 2.2371\n",
            "Epoch 9/10\n",
            "12500/12500 [==============================] - 114s 9ms/step - loss: 2.2349 - val_loss: 2.2320\n",
            "Epoch 10/10\n",
            "12500/12500 [==============================] - 108s 9ms/step - loss: 2.2310 - val_loss: 2.2284\n"
          ]
        }
      ]
    },
    {
      "cell_type": "code",
      "source": [
        "# Input x = 62, y = 82, anpha = 50\n",
        "test = scaler.transform(np.array([[62, 82, 50]]))\n",
        "t1 = model.predict(test)[0][0]\n",
        "t2 = model.predict(test)[0][1]\n",
        "t3 = model.predict(test)[0][2]\n",
        "\n",
        "x = l1 * np.cos(t1) + l2 * np.cos(t1+t2) + l3 * np.cos(t1+t2+t3)\n",
        "y = l1 * np.sin(t1) + l2 * np.sin(t1+t2) + l3 * np.sin(t1+t2+t3)\n",
        "anpha = (t1 + t2 + t3) * 180/3.14\n",
        "\n",
        "print(\"Prediction: t1 = \" + str(t1) + \", t2 = \"+ str(t2) + \", t3 = \"+ str(t3))\n",
        "print(\"Recalculation: x = \" + str(x) + \", y = \"+ str(y)+ \", anpha = \"+ str(anpha))"
      ],
      "metadata": {
        "colab": {
          "base_uri": "https://localhost:8080/"
        },
        "id": "pXvT4skj3utX",
        "outputId": "62bf5d03-3aea-43c8-ea13-777a0053b743"
      },
      "execution_count": 18,
      "outputs": [
        {
          "output_type": "stream",
          "name": "stdout",
          "text": [
            "Prediction: t1 = 0.41798094, t2 = 0.72074175, t3 = 0.19483043\n",
            "Recalculation: x = 62.194636166095734, y = 81.08140051364899, anpha = 76.44571772046909\n"
          ]
        }
      ]
    }
  ]
}
