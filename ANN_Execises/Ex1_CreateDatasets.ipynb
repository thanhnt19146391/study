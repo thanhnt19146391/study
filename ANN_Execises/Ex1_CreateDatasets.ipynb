{
  "nbformat": 4,
  "nbformat_minor": 0,
  "metadata": {
    "colab": {
      "name": "Ex1_CreateDatasets.ipynb",
      "provenance": [],
      "collapsed_sections": [],
      "mount_file_id": "1i1Zz5xOjG-qDy73N0VgmnbZQIntW1YoT",
      "authorship_tag": "ABX9TyPaU2wCCrc0TZOZqUQ4See3",
      "include_colab_link": true
    },
    "kernelspec": {
      "name": "python3",
      "display_name": "Python 3"
    },
    "language_info": {
      "name": "python"
    }
  },
  "cells": [
    {
      "cell_type": "markdown",
      "metadata": {
        "id": "view-in-github",
        "colab_type": "text"
      },
      "source": [
        "<a href=\"https://colab.research.google.com/github/thanhnt19146391/thanhnt19146391/blob/main/Ex1_CreateDatasets.ipynb\" target=\"_parent\"><img src=\"https://colab.research.google.com/assets/colab-badge.svg\" alt=\"Open In Colab\"/></a>"
      ]
    },
    {
      "cell_type": "code",
      "source": [
        "# Import the necessary packages\n",
        "import cv2\n",
        "import matplotlib.pyplot as plt\n",
        "import numpy as np\n"
      ],
      "metadata": {
        "id": "tqaBd6oSC5GH"
      },
      "execution_count": null,
      "outputs": []
    },
    {
      "cell_type": "code",
      "source": [
        "def show_gray_img(img):\n",
        "    plt.imshow(img, cmap = plt.get_cmap('gray'))\n",
        "    plt.colorbar()\n",
        "    plt.show()"
      ],
      "metadata": {
        "id": "MjuWYXX2Ci52"
      },
      "execution_count": null,
      "outputs": []
    },
    {
      "cell_type": "code",
      "source": [
        "def show_rgb_img(img):\n",
        "    plt.imshow(cv2.cvtColor(img, cv2.COLOR_BGR2RGB))\n",
        "    plt.colorbar()\n",
        "    plt.show()"
      ],
      "metadata": {
        "id": "_2UL-akkF1Nl"
      },
      "execution_count": null,
      "outputs": []
    },
    {
      "cell_type": "code",
      "source": [
        "IMG_SIZE = (150 , 150)\n",
        "TRAIN_PATH = \"/content/drive/MyDrive/Colab Notebooks/AI/ANN_Execises/Ex1_train/\"\n",
        "TEST_PATH = \"/content/drive/MyDrive/Colab Notebooks/AI/ANN_Execises/Ex1_test/\""
      ],
      "metadata": {
        "id": "Hq_BO6-uC733"
      },
      "execution_count": null,
      "outputs": []
    },
    {
      "cell_type": "code",
      "source": [
        "# Generate datasets\n",
        "\n",
        "for i in range(60):    \n",
        "    img = cv2.imread(TRAIN_PATH + str(i) + \".jpg\")\n",
        "    min = np.min(img.shape[:2])    \n",
        "    img = img[:min, :min]\n",
        "    img = cv2.resize(img, IMG_SIZE)\n",
        "    cv2.imwrite(TRAIN_PATH + \"Formated/\" + str(i) + \".jpg\", img)"
      ],
      "metadata": {
        "id": "mtzy8pWQEAsg"
      },
      "execution_count": null,
      "outputs": []
    }
  ]
}
