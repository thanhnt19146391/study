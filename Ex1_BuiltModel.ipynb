{
  "nbformat": 4,
  "nbformat_minor": 0,
  "metadata": {
    "colab": {
      "name": " Ex1_BuiltModel.ipynb",
      "provenance": [],
      "collapsed_sections": [],
      "mount_file_id": "1sxePmWrhB9FyUsBDADwN1FcNwAlRT60s",
      "authorship_tag": "ABX9TyNGJr2ti5s49IyTP2YmSsa5",
      "include_colab_link": true
    },
    "kernelspec": {
      "name": "python3",
      "display_name": "Python 3"
    },
    "language_info": {
      "name": "python"
    },
    "accelerator": "GPU"
  },
  "cells": [
    {
      "cell_type": "markdown",
      "metadata": {
        "id": "view-in-github",
        "colab_type": "text"
      },
      "source": [
        "<a href=\"https://colab.research.google.com/github/thanhnt19146391/thanhnt19146391/blob/main/Ex1_BuiltModel.ipynb\" target=\"_parent\"><img src=\"https://colab.research.google.com/assets/colab-badge.svg\" alt=\"Open In Colab\"/></a>"
      ]
    },
    {
      "cell_type": "code",
      "source": [
        "# Import the necessary packages\n",
        "from keras.models import Sequential, load_model\n",
        "from keras.layers import Dense, Dropout, Activation\n",
        "from keras.utils import np_utils\n",
        "import tensorflow as tf\n",
        "from tensorflow.keras.optimizers import Adam\n",
        "import cv2\n",
        "import matplotlib.pyplot as plt\n",
        "import numpy as np\n"
      ],
      "metadata": {
        "id": "tqaBd6oSC5GH"
      },
      "execution_count": 95,
      "outputs": []
    },
    {
      "cell_type": "code",
      "source": [
        "def show_gray_img(img):\n",
        "    plt.imshow(img, cmap = plt.get_cmap('gray'))\n",
        "    plt.colorbar()\n",
        "    plt.show()"
      ],
      "metadata": {
        "id": "MjuWYXX2Ci52"
      },
      "execution_count": 96,
      "outputs": []
    },
    {
      "cell_type": "code",
      "source": [
        "def show_rgb_img(img):\n",
        "    plt.imshow(cv2.cvtColor(img, cv2.COLOR_BGR2RGB))\n",
        "    plt.colorbar()\n",
        "    plt.show()"
      ],
      "metadata": {
        "id": "_2UL-akkF1Nl"
      },
      "execution_count": 97,
      "outputs": []
    },
    {
      "cell_type": "code",
      "source": [
        "IMG_SIZE = (150 , 150)\n",
        "N = 60\n",
        "PATH = \"/content/drive/MyDrive/Colab Notebooks/AI/ANN_Execises/\"\n",
        "TRAIN_PATH = \"/content/drive/MyDrive/Colab Notebooks/AI/ANN_Execises/Ex1_train/Formated/\"\n",
        "TEST_PATH = \"/content/drive/MyDrive/Colab Notebooks/AI/ANN_Execises/Ex1_test/Formated/\"\n",
        "EPOCHS = 200\n",
        "BATCH_SIZE = 16\n",
        "VERBOSE = 1\n",
        "NB_CLASS = 2   # number of outputs = number of digits\n",
        "N_HIDDEN = 128 \n",
        "VALIDATION_SPLIT = 0.2    # how much TRAIN is reserved for VALIDATION\n",
        "RESHAPED = 150 * 150\n",
        "PATH = \"/content/drive/MyDrive/Colab Notebooks/AI/ANN_Execises/\"\n",
        "DROPOUT = 0.3\n",
        "IMG_SIZE = (150 , 150)"
      ],
      "metadata": {
        "id": "Hq_BO6-uC733"
      },
      "execution_count": 98,
      "outputs": []
    },
    {
      "cell_type": "code",
      "source": [
        "# Read datasets\n",
        "x_train = []\n",
        "y_train = np.zeros((N, ), dtype = np.uint8)\n",
        "for i in range(N):    \n",
        "    img = cv2.imread(TRAIN_PATH + str(i) + \".jpg\", 0)\n",
        "    x_train.append(img)\n",
        "\n",
        "x_train = np.array(x_train)\n",
        "x_train = x_train.reshape(N, 150, 150)\n",
        "\n",
        "for i in range(22):\n",
        "    y_train[i] = 1\n",
        "\n",
        "print(x_train.shape)\n",
        "print(y_train.shape)\n",
        "# for i in range(N): \n",
        "#     show_gray_img(x_train[i])\n",
        "#     print(y_train[i])"
      ],
      "metadata": {
        "id": "mtzy8pWQEAsg",
        "colab": {
          "base_uri": "https://localhost:8080/"
        },
        "outputId": "42190e83-5aae-4602-9548-df14e68ab18e"
      },
      "execution_count": 99,
      "outputs": [
        {
          "output_type": "stream",
          "name": "stdout",
          "text": [
            "(60, 150, 150)\n",
            "(60,)\n"
          ]
        }
      ]
    },
    {
      "cell_type": "code",
      "source": [
        "# Format input function\n",
        "def format_input(x):\n",
        "  global RESHAPE\n",
        "  x = x.reshape(x.shape[0], RESHAPED)\n",
        "  x = x.astype('float32')\n",
        "  x /= 255\n",
        "  return x"
      ],
      "metadata": {
        "id": "riS_q8K8Slzx"
      },
      "execution_count": 100,
      "outputs": []
    },
    {
      "cell_type": "code",
      "execution_count": 101,
      "metadata": {
        "id": "_1YbeRat5vhd",
        "colab": {
          "base_uri": "https://localhost:8080/"
        },
        "outputId": "88d4cd15-245f-4a58-acea-08e28d06aa15"
      },
      "outputs": [
        {
          "output_type": "stream",
          "name": "stdout",
          "text": [
            "x train shape (60, 22500)\n"
          ]
        }
      ],
      "source": [
        "# Format inputs\n",
        "x_train = format_input(x_train)\n",
        "\n",
        "print(\"x train shape\", x_train.shape)"
      ]
    },
    {
      "cell_type": "code",
      "source": [
        "# Format outputs - OHE - One Hot Encoding\n",
        "\n",
        "print(y_train.shape)\n",
        "\n",
        "# print(y_train)\n",
        "\n",
        "y_train = np_utils.to_categorical(y_train, NB_CLASS)\n",
        "\n",
        "# print(y_train)"
      ],
      "metadata": {
        "colab": {
          "base_uri": "https://localhost:8080/"
        },
        "id": "rvtp6RFgTYR2",
        "outputId": "2ece5be7-fd1e-482f-efc0-b5488978192e"
      },
      "execution_count": 102,
      "outputs": [
        {
          "output_type": "stream",
          "name": "stdout",
          "text": [
            "(60,)\n"
          ]
        }
      ]
    },
    {
      "cell_type": "code",
      "source": [
        "# Save model\n",
        "def Save_model(i, model):\n",
        "    global PATH\n",
        "    model_name = \"Ex1_model\" + str(i) + \".h\" \n",
        "    model.save(PATH + model_name)\n",
        "    model = load_model(PATH + model_name)"
      ],
      "metadata": {
        "id": "8A07LVhEUnBe"
      },
      "execution_count": 103,
      "outputs": []
    },
    {
      "cell_type": "code",
      "source": [
        "# Load model\n",
        "def Load_model(i):\n",
        "    global PATH\n",
        "    model_name = \"Ex1_model\" + str(i) + \".h\" \n",
        "    return load_model(PATH + model_name)"
      ],
      "metadata": {
        "id": "Dw-ZS6CIU4uP"
      },
      "execution_count": 104,
      "outputs": []
    },
    {
      "cell_type": "code",
      "source": [
        "# Built the model\n",
        "def Built_model():\n",
        "    model = Sequential()\n",
        "\n",
        "    global RESHAPED, DROPOUT\n",
        "    model.add(\n",
        "        Dense(\n",
        "            N_HIDDEN,\n",
        "            input_shape = (RESHAPED,),\n",
        "            name = 'dense_layer',\n",
        "            activation = 'relu'\n",
        "        )\n",
        "    )\n",
        "\n",
        "    model.add(\n",
        "        Dropout(DROPOUT)\n",
        "    )\n",
        "\n",
        "    model.add(\n",
        "        Dense(\n",
        "            N_HIDDEN,\n",
        "            name = 'dense_layer2',\n",
        "            activation = 'relu'\n",
        "        )\n",
        "    )\n",
        "\n",
        "    model.add(\n",
        "        Dropout(DROPOUT)\n",
        "    )\n",
        "\n",
        "    model.add(\n",
        "        Dense(\n",
        "            NB_CLASS,\n",
        "            name = 'dense_layer3',\n",
        "            activation = 'softmax'\n",
        "        )\n",
        "    )\n",
        "\n",
        "    #Summary of the model\n",
        "    model.summary()\n",
        "\n",
        "    # Compiling the model\n",
        "    model.compile(\n",
        "        optimizer = 'Adam',\n",
        "        loss = 'categorical_crossentropy',\n",
        "        metrics = ['accuracy']\n",
        "    )\n",
        "\n",
        "\n",
        "    model.fit(\n",
        "        x_train,\n",
        "        y_train,\n",
        "        batch_size = BATCH_SIZE,\n",
        "        epochs = EPOCHS,\n",
        "        verbose = VERBOSE,\n",
        "        validation_split = VALIDATION_SPLIT\n",
        "    )\n",
        "\n",
        "    # Evaluating the model\n",
        "    # test_loss, test_acc = model.evaluate(x_test, y_test)\n",
        "    # print('Test accuracy: ', test_acc)\n",
        "    return model"
      ],
      "metadata": {
        "id": "HrxlYk9OVIeB"
      },
      "execution_count": 105,
      "outputs": []
    },
    {
      "cell_type": "code",
      "source": [
        "# model = Built_model()"
      ],
      "metadata": {
        "colab": {
          "base_uri": "https://localhost:8080/"
        },
        "id": "5V0Q826nVUT_",
        "outputId": "d3c0db0b-3340-450a-a661-47de6ba27c7f"
      },
      "execution_count": 106,
      "outputs": [
        {
          "output_type": "stream",
          "name": "stdout",
          "text": [
            "Model: \"sequential_1\"\n",
            "_________________________________________________________________\n",
            " Layer (type)                Output Shape              Param #   \n",
            "=================================================================\n",
            " dense_layer (Dense)         (None, 128)               2880128   \n",
            "                                                                 \n",
            " dropout_2 (Dropout)         (None, 128)               0         \n",
            "                                                                 \n",
            " dense_layer2 (Dense)        (None, 128)               16512     \n",
            "                                                                 \n",
            " dropout_3 (Dropout)         (None, 128)               0         \n",
            "                                                                 \n",
            " dense_layer3 (Dense)        (None, 2)                 258       \n",
            "                                                                 \n",
            "=================================================================\n",
            "Total params: 2,896,898\n",
            "Trainable params: 2,896,898\n",
            "Non-trainable params: 0\n",
            "_________________________________________________________________\n",
            "Epoch 1/200\n",
            "3/3 [==============================] - 1s 110ms/step - loss: 5.0452 - accuracy: 0.4375 - val_loss: 2.5326e-04 - val_accuracy: 1.0000\n",
            "Epoch 2/200\n",
            "3/3 [==============================] - 0s 21ms/step - loss: 6.7598 - accuracy: 0.4375 - val_loss: 2.8553 - val_accuracy: 0.0000e+00\n",
            "Epoch 3/200\n",
            "3/3 [==============================] - 0s 23ms/step - loss: 5.6541 - accuracy: 0.5208 - val_loss: 1.1797e-04 - val_accuracy: 1.0000\n",
            "Epoch 4/200\n",
            "3/3 [==============================] - 0s 22ms/step - loss: 5.6485 - accuracy: 0.5417 - val_loss: 0.3573 - val_accuracy: 0.9167\n",
            "Epoch 5/200\n",
            "3/3 [==============================] - 0s 22ms/step - loss: 4.8867 - accuracy: 0.5625 - val_loss: 1.4258 - val_accuracy: 0.0000e+00\n",
            "Epoch 6/200\n",
            "3/3 [==============================] - 0s 20ms/step - loss: 3.2112 - accuracy: 0.5417 - val_loss: 0.7569 - val_accuracy: 0.5833\n",
            "Epoch 7/200\n",
            "3/3 [==============================] - 0s 21ms/step - loss: 4.7142 - accuracy: 0.4583 - val_loss: 0.1215 - val_accuracy: 1.0000\n",
            "Epoch 8/200\n",
            "3/3 [==============================] - 0s 20ms/step - loss: 4.2762 - accuracy: 0.4792 - val_loss: 0.5979 - val_accuracy: 0.6667\n",
            "Epoch 9/200\n",
            "3/3 [==============================] - 0s 20ms/step - loss: 2.7874 - accuracy: 0.5208 - val_loss: 0.6490 - val_accuracy: 0.5000\n",
            "Epoch 10/200\n",
            "3/3 [==============================] - 0s 20ms/step - loss: 1.7933 - accuracy: 0.5208 - val_loss: 0.1390 - val_accuracy: 1.0000\n",
            "Epoch 11/200\n",
            "3/3 [==============================] - 0s 22ms/step - loss: 1.7768 - accuracy: 0.5625 - val_loss: 0.3407 - val_accuracy: 0.8333\n",
            "Epoch 12/200\n",
            "3/3 [==============================] - 0s 28ms/step - loss: 1.2665 - accuracy: 0.5417 - val_loss: 1.4496 - val_accuracy: 0.0000e+00\n",
            "Epoch 13/200\n",
            "3/3 [==============================] - 0s 22ms/step - loss: 1.1465 - accuracy: 0.6042 - val_loss: 0.5415 - val_accuracy: 0.8333\n",
            "Epoch 14/200\n",
            "3/3 [==============================] - 0s 22ms/step - loss: 1.1219 - accuracy: 0.6042 - val_loss: 0.4702 - val_accuracy: 0.8333\n",
            "Epoch 15/200\n",
            "3/3 [==============================] - 0s 23ms/step - loss: 1.4598 - accuracy: 0.4583 - val_loss: 1.0932 - val_accuracy: 0.1667\n",
            "Epoch 16/200\n",
            "3/3 [==============================] - 0s 21ms/step - loss: 1.1242 - accuracy: 0.6042 - val_loss: 0.4897 - val_accuracy: 0.9167\n",
            "Epoch 17/200\n",
            "3/3 [==============================] - 0s 23ms/step - loss: 0.8208 - accuracy: 0.6458 - val_loss: 0.4681 - val_accuracy: 1.0000\n",
            "Epoch 18/200\n",
            "3/3 [==============================] - 0s 21ms/step - loss: 0.7494 - accuracy: 0.6250 - val_loss: 0.2947 - val_accuracy: 1.0000\n",
            "Epoch 19/200\n",
            "3/3 [==============================] - 0s 21ms/step - loss: 0.9751 - accuracy: 0.5417 - val_loss: 0.4896 - val_accuracy: 1.0000\n",
            "Epoch 20/200\n",
            "3/3 [==============================] - 0s 22ms/step - loss: 0.6644 - accuracy: 0.5833 - val_loss: 0.7976 - val_accuracy: 0.1667\n",
            "Epoch 21/200\n",
            "3/3 [==============================] - 0s 21ms/step - loss: 0.8476 - accuracy: 0.5833 - val_loss: 0.4984 - val_accuracy: 0.8333\n",
            "Epoch 22/200\n",
            "3/3 [==============================] - 0s 20ms/step - loss: 0.5776 - accuracy: 0.7917 - val_loss: 0.5554 - val_accuracy: 0.9167\n",
            "Epoch 23/200\n",
            "3/3 [==============================] - 0s 24ms/step - loss: 0.6871 - accuracy: 0.6250 - val_loss: 0.5887 - val_accuracy: 0.8333\n",
            "Epoch 24/200\n",
            "3/3 [==============================] - 0s 19ms/step - loss: 0.6210 - accuracy: 0.6042 - val_loss: 0.7878 - val_accuracy: 0.3333\n",
            "Epoch 25/200\n",
            "3/3 [==============================] - 0s 20ms/step - loss: 0.5143 - accuracy: 0.7708 - val_loss: 0.4806 - val_accuracy: 0.9167\n",
            "Epoch 26/200\n",
            "3/3 [==============================] - 0s 20ms/step - loss: 0.6723 - accuracy: 0.6458 - val_loss: 0.5536 - val_accuracy: 0.8333\n",
            "Epoch 27/200\n",
            "3/3 [==============================] - 0s 19ms/step - loss: 0.4925 - accuracy: 0.7708 - val_loss: 0.7061 - val_accuracy: 0.5000\n",
            "Epoch 28/200\n",
            "3/3 [==============================] - 0s 19ms/step - loss: 0.5048 - accuracy: 0.7083 - val_loss: 0.4435 - val_accuracy: 0.9167\n",
            "Epoch 29/200\n",
            "3/3 [==============================] - 0s 23ms/step - loss: 0.4850 - accuracy: 0.7292 - val_loss: 0.6212 - val_accuracy: 0.6667\n",
            "Epoch 30/200\n",
            "3/3 [==============================] - 0s 19ms/step - loss: 0.4527 - accuracy: 0.8125 - val_loss: 0.6188 - val_accuracy: 0.6667\n",
            "Epoch 31/200\n",
            "3/3 [==============================] - 0s 19ms/step - loss: 0.5708 - accuracy: 0.6875 - val_loss: 0.4032 - val_accuracy: 0.9167\n",
            "Epoch 32/200\n",
            "3/3 [==============================] - 0s 21ms/step - loss: 0.4876 - accuracy: 0.7500 - val_loss: 0.6169 - val_accuracy: 0.5833\n",
            "Epoch 33/200\n",
            "3/3 [==============================] - 0s 21ms/step - loss: 0.3823 - accuracy: 0.8333 - val_loss: 0.3976 - val_accuracy: 0.8333\n",
            "Epoch 34/200\n",
            "3/3 [==============================] - 0s 30ms/step - loss: 0.3784 - accuracy: 0.7708 - val_loss: 0.6306 - val_accuracy: 0.5833\n",
            "Epoch 35/200\n",
            "3/3 [==============================] - 0s 19ms/step - loss: 0.4089 - accuracy: 0.7708 - val_loss: 0.4494 - val_accuracy: 0.7500\n",
            "Epoch 36/200\n",
            "3/3 [==============================] - 0s 20ms/step - loss: 0.4155 - accuracy: 0.7083 - val_loss: 0.5501 - val_accuracy: 0.7500\n",
            "Epoch 37/200\n",
            "3/3 [==============================] - 0s 21ms/step - loss: 0.3670 - accuracy: 0.7917 - val_loss: 0.5553 - val_accuracy: 0.7500\n",
            "Epoch 38/200\n",
            "3/3 [==============================] - 0s 22ms/step - loss: 0.2416 - accuracy: 0.8958 - val_loss: 0.4574 - val_accuracy: 0.7500\n",
            "Epoch 39/200\n",
            "3/3 [==============================] - 0s 20ms/step - loss: 0.3778 - accuracy: 0.7917 - val_loss: 0.6624 - val_accuracy: 0.5833\n",
            "Epoch 40/200\n",
            "3/3 [==============================] - 0s 22ms/step - loss: 0.3960 - accuracy: 0.7500 - val_loss: 0.5508 - val_accuracy: 0.7500\n",
            "Epoch 41/200\n",
            "3/3 [==============================] - 0s 21ms/step - loss: 0.3968 - accuracy: 0.7500 - val_loss: 0.5590 - val_accuracy: 0.7500\n",
            "Epoch 42/200\n",
            "3/3 [==============================] - 0s 20ms/step - loss: 0.4039 - accuracy: 0.7083 - val_loss: 0.7391 - val_accuracy: 0.5833\n",
            "Epoch 43/200\n",
            "3/3 [==============================] - 0s 23ms/step - loss: 0.2772 - accuracy: 0.8125 - val_loss: 0.6164 - val_accuracy: 0.6667\n",
            "Epoch 44/200\n",
            "3/3 [==============================] - 0s 21ms/step - loss: 0.2884 - accuracy: 0.8333 - val_loss: 0.4434 - val_accuracy: 0.7500\n",
            "Epoch 45/200\n",
            "3/3 [==============================] - 0s 21ms/step - loss: 0.2937 - accuracy: 0.8542 - val_loss: 0.8926 - val_accuracy: 0.4167\n",
            "Epoch 46/200\n",
            "3/3 [==============================] - 0s 26ms/step - loss: 0.2824 - accuracy: 0.8333 - val_loss: 0.4173 - val_accuracy: 0.8333\n",
            "Epoch 47/200\n",
            "3/3 [==============================] - 0s 21ms/step - loss: 0.3149 - accuracy: 0.8542 - val_loss: 0.5929 - val_accuracy: 0.6667\n",
            "Epoch 48/200\n",
            "3/3 [==============================] - 0s 20ms/step - loss: 0.2717 - accuracy: 0.8125 - val_loss: 0.6675 - val_accuracy: 0.6667\n",
            "Epoch 49/200\n",
            "3/3 [==============================] - 0s 21ms/step - loss: 0.2879 - accuracy: 0.8125 - val_loss: 0.4668 - val_accuracy: 0.8333\n",
            "Epoch 50/200\n",
            "3/3 [==============================] - 0s 20ms/step - loss: 0.2977 - accuracy: 0.8542 - val_loss: 1.1387 - val_accuracy: 0.3333\n",
            "Epoch 51/200\n",
            "3/3 [==============================] - 0s 23ms/step - loss: 0.3468 - accuracy: 0.8125 - val_loss: 0.2429 - val_accuracy: 0.8333\n",
            "Epoch 52/200\n",
            "3/3 [==============================] - 0s 20ms/step - loss: 0.4300 - accuracy: 0.6875 - val_loss: 1.5125 - val_accuracy: 0.2500\n",
            "Epoch 53/200\n",
            "3/3 [==============================] - 0s 21ms/step - loss: 0.4103 - accuracy: 0.7500 - val_loss: 0.1679 - val_accuracy: 1.0000\n",
            "Epoch 54/200\n",
            "3/3 [==============================] - 0s 21ms/step - loss: 0.4546 - accuracy: 0.6667 - val_loss: 0.5863 - val_accuracy: 1.0000\n",
            "Epoch 55/200\n",
            "3/3 [==============================] - 0s 21ms/step - loss: 0.5282 - accuracy: 0.6458 - val_loss: 0.3303 - val_accuracy: 1.0000\n",
            "Epoch 56/200\n",
            "3/3 [==============================] - 0s 21ms/step - loss: 0.4373 - accuracy: 0.6458 - val_loss: 0.1813 - val_accuracy: 0.9167\n",
            "Epoch 57/200\n",
            "3/3 [==============================] - 0s 20ms/step - loss: 0.3442 - accuracy: 0.7500 - val_loss: 1.4336 - val_accuracy: 0.2500\n",
            "Epoch 58/200\n",
            "3/3 [==============================] - 0s 19ms/step - loss: 0.3713 - accuracy: 0.7500 - val_loss: 0.3424 - val_accuracy: 0.9167\n",
            "Epoch 59/200\n",
            "3/3 [==============================] - 0s 19ms/step - loss: 0.3639 - accuracy: 0.8125 - val_loss: 0.2754 - val_accuracy: 0.9167\n",
            "Epoch 60/200\n",
            "3/3 [==============================] - 0s 20ms/step - loss: 0.3413 - accuracy: 0.7917 - val_loss: 1.0105 - val_accuracy: 0.5000\n",
            "Epoch 61/200\n",
            "3/3 [==============================] - 0s 21ms/step - loss: 0.2718 - accuracy: 0.8542 - val_loss: 1.0966 - val_accuracy: 0.5000\n",
            "Epoch 62/200\n",
            "3/3 [==============================] - 0s 20ms/step - loss: 0.3356 - accuracy: 0.7500 - val_loss: 0.5430 - val_accuracy: 0.7500\n",
            "Epoch 63/200\n",
            "3/3 [==============================] - 0s 26ms/step - loss: 0.3037 - accuracy: 0.8125 - val_loss: 0.5043 - val_accuracy: 0.6667\n",
            "Epoch 64/200\n",
            "3/3 [==============================] - 0s 20ms/step - loss: 0.3077 - accuracy: 0.8750 - val_loss: 0.6912 - val_accuracy: 0.4167\n",
            "Epoch 65/200\n",
            "3/3 [==============================] - 0s 24ms/step - loss: 0.1946 - accuracy: 0.8958 - val_loss: 0.8802 - val_accuracy: 0.5000\n",
            "Epoch 66/200\n",
            "3/3 [==============================] - 0s 20ms/step - loss: 0.2789 - accuracy: 0.7708 - val_loss: 0.6008 - val_accuracy: 0.6667\n",
            "Epoch 67/200\n",
            "3/3 [==============================] - 0s 20ms/step - loss: 0.2296 - accuracy: 0.8542 - val_loss: 0.6901 - val_accuracy: 0.6667\n",
            "Epoch 68/200\n",
            "3/3 [==============================] - 0s 20ms/step - loss: 0.2274 - accuracy: 0.8333 - val_loss: 1.0859 - val_accuracy: 0.3333\n",
            "Epoch 69/200\n",
            "3/3 [==============================] - 0s 21ms/step - loss: 0.2030 - accuracy: 0.8958 - val_loss: 1.1290 - val_accuracy: 0.4167\n",
            "Epoch 70/200\n",
            "3/3 [==============================] - 0s 21ms/step - loss: 0.2308 - accuracy: 0.8125 - val_loss: 0.4615 - val_accuracy: 0.8333\n",
            "Epoch 71/200\n",
            "3/3 [==============================] - 0s 20ms/step - loss: 0.2205 - accuracy: 0.8542 - val_loss: 0.5217 - val_accuracy: 0.7500\n",
            "Epoch 72/200\n",
            "3/3 [==============================] - 0s 22ms/step - loss: 0.2316 - accuracy: 0.8542 - val_loss: 0.6975 - val_accuracy: 0.6667\n",
            "Epoch 73/200\n",
            "3/3 [==============================] - 0s 22ms/step - loss: 0.1975 - accuracy: 0.8750 - val_loss: 1.0018 - val_accuracy: 0.5833\n",
            "Epoch 74/200\n",
            "3/3 [==============================] - 0s 20ms/step - loss: 0.2202 - accuracy: 0.8125 - val_loss: 1.0020 - val_accuracy: 0.5833\n",
            "Epoch 75/200\n",
            "3/3 [==============================] - 0s 20ms/step - loss: 0.2047 - accuracy: 0.9167 - val_loss: 0.9587 - val_accuracy: 0.5833\n",
            "Epoch 76/200\n",
            "3/3 [==============================] - 0s 20ms/step - loss: 0.2434 - accuracy: 0.7708 - val_loss: 0.9786 - val_accuracy: 0.5833\n",
            "Epoch 77/200\n",
            "3/3 [==============================] - 0s 20ms/step - loss: 0.1499 - accuracy: 0.9375 - val_loss: 1.0163 - val_accuracy: 0.5833\n",
            "Epoch 78/200\n",
            "3/3 [==============================] - 0s 21ms/step - loss: 0.2212 - accuracy: 0.8333 - val_loss: 1.4317 - val_accuracy: 0.4167\n",
            "Epoch 79/200\n",
            "3/3 [==============================] - 0s 21ms/step - loss: 0.2005 - accuracy: 0.8333 - val_loss: 1.0316 - val_accuracy: 0.3333\n",
            "Epoch 80/200\n",
            "3/3 [==============================] - 0s 25ms/step - loss: 0.1466 - accuracy: 0.9167 - val_loss: 0.5280 - val_accuracy: 0.8333\n",
            "Epoch 81/200\n",
            "3/3 [==============================] - 0s 20ms/step - loss: 0.1557 - accuracy: 0.8333 - val_loss: 0.6647 - val_accuracy: 0.7500\n",
            "Epoch 82/200\n",
            "3/3 [==============================] - 0s 20ms/step - loss: 0.2988 - accuracy: 0.7083 - val_loss: 1.0544 - val_accuracy: 0.5833\n",
            "Epoch 83/200\n",
            "3/3 [==============================] - 0s 23ms/step - loss: 0.2286 - accuracy: 0.8750 - val_loss: 0.8587 - val_accuracy: 0.5833\n",
            "Epoch 84/200\n",
            "3/3 [==============================] - 0s 19ms/step - loss: 0.2303 - accuracy: 0.8542 - val_loss: 0.6748 - val_accuracy: 0.6667\n",
            "Epoch 85/200\n",
            "3/3 [==============================] - 0s 20ms/step - loss: 0.2606 - accuracy: 0.7500 - val_loss: 0.7224 - val_accuracy: 0.6667\n",
            "Epoch 86/200\n",
            "3/3 [==============================] - 0s 21ms/step - loss: 0.1831 - accuracy: 0.8750 - val_loss: 0.9242 - val_accuracy: 0.6667\n",
            "Epoch 87/200\n",
            "3/3 [==============================] - 0s 21ms/step - loss: 0.2859 - accuracy: 0.8125 - val_loss: 0.7013 - val_accuracy: 0.6667\n",
            "Epoch 88/200\n",
            "3/3 [==============================] - 0s 20ms/step - loss: 0.2067 - accuracy: 0.8958 - val_loss: 0.4379 - val_accuracy: 0.7500\n",
            "Epoch 89/200\n",
            "3/3 [==============================] - 0s 21ms/step - loss: 0.1941 - accuracy: 0.8958 - val_loss: 0.8750 - val_accuracy: 0.5833\n",
            "Epoch 90/200\n",
            "3/3 [==============================] - 0s 20ms/step - loss: 0.2572 - accuracy: 0.8542 - val_loss: 1.2528 - val_accuracy: 0.4167\n",
            "Epoch 91/200\n",
            "3/3 [==============================] - 0s 20ms/step - loss: 0.1643 - accuracy: 0.8750 - val_loss: 0.8755 - val_accuracy: 0.6667\n",
            "Epoch 92/200\n",
            "3/3 [==============================] - 0s 21ms/step - loss: 0.1820 - accuracy: 0.8750 - val_loss: 0.7601 - val_accuracy: 0.6667\n",
            "Epoch 93/200\n",
            "3/3 [==============================] - 0s 21ms/step - loss: 0.1147 - accuracy: 0.8750 - val_loss: 1.2303 - val_accuracy: 0.4167\n",
            "Epoch 94/200\n",
            "3/3 [==============================] - 0s 26ms/step - loss: 0.2441 - accuracy: 0.8125 - val_loss: 1.4560 - val_accuracy: 0.3333\n",
            "Epoch 95/200\n",
            "3/3 [==============================] - 0s 21ms/step - loss: 0.3694 - accuracy: 0.7917 - val_loss: 1.0971 - val_accuracy: 0.4167\n",
            "Epoch 96/200\n",
            "3/3 [==============================] - 0s 21ms/step - loss: 0.1763 - accuracy: 0.8958 - val_loss: 0.7000 - val_accuracy: 0.6667\n",
            "Epoch 97/200\n",
            "3/3 [==============================] - 0s 29ms/step - loss: 0.1820 - accuracy: 0.8750 - val_loss: 0.6036 - val_accuracy: 0.8333\n",
            "Epoch 98/200\n",
            "3/3 [==============================] - 0s 20ms/step - loss: 0.2347 - accuracy: 0.8125 - val_loss: 1.4495 - val_accuracy: 0.4167\n",
            "Epoch 99/200\n",
            "3/3 [==============================] - 0s 21ms/step - loss: 0.3864 - accuracy: 0.7292 - val_loss: 0.8405 - val_accuracy: 0.1667\n",
            "Epoch 100/200\n",
            "3/3 [==============================] - 0s 20ms/step - loss: 0.5739 - accuracy: 0.5208 - val_loss: 0.6957 - val_accuracy: 0.0833\n",
            "Epoch 101/200\n",
            "3/3 [==============================] - 0s 24ms/step - loss: 0.5927 - accuracy: 0.6042 - val_loss: 0.7009 - val_accuracy: 0.1667\n",
            "Epoch 102/200\n",
            "3/3 [==============================] - 0s 20ms/step - loss: 0.4077 - accuracy: 0.7292 - val_loss: 0.8534 - val_accuracy: 0.6667\n",
            "Epoch 103/200\n",
            "3/3 [==============================] - 0s 22ms/step - loss: 0.3574 - accuracy: 0.7500 - val_loss: 1.5544 - val_accuracy: 0.4167\n",
            "Epoch 104/200\n",
            "3/3 [==============================] - 0s 20ms/step - loss: 0.2269 - accuracy: 0.7708 - val_loss: 1.1015 - val_accuracy: 0.5000\n",
            "Epoch 105/200\n",
            "3/3 [==============================] - 0s 20ms/step - loss: 0.2068 - accuracy: 0.8958 - val_loss: 0.6701 - val_accuracy: 0.7500\n",
            "Epoch 106/200\n",
            "3/3 [==============================] - 0s 20ms/step - loss: 0.3098 - accuracy: 0.8542 - val_loss: 0.5453 - val_accuracy: 0.7500\n",
            "Epoch 107/200\n",
            "3/3 [==============================] - 0s 20ms/step - loss: 0.2694 - accuracy: 0.8750 - val_loss: 1.0364 - val_accuracy: 0.6667\n",
            "Epoch 108/200\n",
            "3/3 [==============================] - 0s 20ms/step - loss: 0.1997 - accuracy: 0.8750 - val_loss: 0.6522 - val_accuracy: 0.7500\n",
            "Epoch 109/200\n",
            "3/3 [==============================] - 0s 28ms/step - loss: 0.2004 - accuracy: 0.8542 - val_loss: 0.7467 - val_accuracy: 0.7500\n",
            "Epoch 110/200\n",
            "3/3 [==============================] - 0s 20ms/step - loss: 0.2591 - accuracy: 0.8333 - val_loss: 1.2783 - val_accuracy: 0.5833\n",
            "Epoch 111/200\n",
            "3/3 [==============================] - 0s 20ms/step - loss: 0.2322 - accuracy: 0.8125 - val_loss: 1.7051 - val_accuracy: 0.5000\n",
            "Epoch 112/200\n",
            "3/3 [==============================] - 0s 20ms/step - loss: 0.2237 - accuracy: 0.7917 - val_loss: 0.9553 - val_accuracy: 0.6667\n",
            "Epoch 113/200\n",
            "3/3 [==============================] - 0s 22ms/step - loss: 0.2281 - accuracy: 0.8542 - val_loss: 0.6671 - val_accuracy: 0.7500\n",
            "Epoch 114/200\n",
            "3/3 [==============================] - 0s 24ms/step - loss: 0.3110 - accuracy: 0.7917 - val_loss: 0.7524 - val_accuracy: 0.7500\n",
            "Epoch 115/200\n",
            "3/3 [==============================] - 0s 21ms/step - loss: 0.2336 - accuracy: 0.7917 - val_loss: 0.9126 - val_accuracy: 0.6667\n",
            "Epoch 116/200\n",
            "3/3 [==============================] - 0s 20ms/step - loss: 0.2014 - accuracy: 0.8958 - val_loss: 1.0729 - val_accuracy: 0.6667\n",
            "Epoch 117/200\n",
            "3/3 [==============================] - 0s 20ms/step - loss: 0.1750 - accuracy: 0.8958 - val_loss: 1.2139 - val_accuracy: 0.6667\n",
            "Epoch 118/200\n",
            "3/3 [==============================] - 0s 20ms/step - loss: 0.2532 - accuracy: 0.8958 - val_loss: 0.9270 - val_accuracy: 0.6667\n",
            "Epoch 119/200\n",
            "3/3 [==============================] - 0s 23ms/step - loss: 0.3060 - accuracy: 0.7917 - val_loss: 0.8769 - val_accuracy: 0.7500\n",
            "Epoch 120/200\n",
            "3/3 [==============================] - 0s 21ms/step - loss: 0.2362 - accuracy: 0.8333 - val_loss: 0.6836 - val_accuracy: 0.7500\n",
            "Epoch 121/200\n",
            "3/3 [==============================] - 0s 21ms/step - loss: 0.2400 - accuracy: 0.8542 - val_loss: 0.5985 - val_accuracy: 0.8333\n",
            "Epoch 122/200\n",
            "3/3 [==============================] - 0s 21ms/step - loss: 0.2351 - accuracy: 0.8542 - val_loss: 1.7286 - val_accuracy: 0.4167\n",
            "Epoch 123/200\n",
            "3/3 [==============================] - 0s 21ms/step - loss: 0.2953 - accuracy: 0.8333 - val_loss: 1.2944 - val_accuracy: 0.5000\n",
            "Epoch 124/200\n",
            "3/3 [==============================] - 0s 20ms/step - loss: 0.2296 - accuracy: 0.8125 - val_loss: 0.5154 - val_accuracy: 0.8333\n",
            "Epoch 125/200\n",
            "3/3 [==============================] - 0s 20ms/step - loss: 0.2584 - accuracy: 0.8333 - val_loss: 0.3711 - val_accuracy: 0.8333\n",
            "Epoch 126/200\n",
            "3/3 [==============================] - 0s 22ms/step - loss: 0.2495 - accuracy: 0.8333 - val_loss: 0.9458 - val_accuracy: 0.6667\n",
            "Epoch 127/200\n",
            "3/3 [==============================] - 0s 21ms/step - loss: 0.2757 - accuracy: 0.8333 - val_loss: 1.8465 - val_accuracy: 0.4167\n",
            "Epoch 128/200\n",
            "3/3 [==============================] - 0s 21ms/step - loss: 0.3425 - accuracy: 0.8125 - val_loss: 0.5229 - val_accuracy: 0.7500\n",
            "Epoch 129/200\n",
            "3/3 [==============================] - 0s 20ms/step - loss: 0.2806 - accuracy: 0.8125 - val_loss: 0.1586 - val_accuracy: 1.0000\n",
            "Epoch 130/200\n",
            "3/3 [==============================] - 0s 20ms/step - loss: 0.3347 - accuracy: 0.7708 - val_loss: 0.5104 - val_accuracy: 0.9167\n",
            "Epoch 131/200\n",
            "3/3 [==============================] - 0s 22ms/step - loss: 0.3117 - accuracy: 0.7708 - val_loss: 1.2809 - val_accuracy: 0.5000\n",
            "Epoch 132/200\n",
            "3/3 [==============================] - 0s 20ms/step - loss: 0.3007 - accuracy: 0.8333 - val_loss: 0.9118 - val_accuracy: 0.6667\n",
            "Epoch 133/200\n",
            "3/3 [==============================] - 0s 21ms/step - loss: 0.2126 - accuracy: 0.8750 - val_loss: 0.2196 - val_accuracy: 0.8333\n",
            "Epoch 134/200\n",
            "3/3 [==============================] - 0s 21ms/step - loss: 0.2647 - accuracy: 0.7708 - val_loss: 0.4485 - val_accuracy: 0.8333\n",
            "Epoch 135/200\n",
            "3/3 [==============================] - 0s 20ms/step - loss: 0.3469 - accuracy: 0.8333 - val_loss: 0.9779 - val_accuracy: 0.7500\n",
            "Epoch 136/200\n",
            "3/3 [==============================] - 0s 22ms/step - loss: 0.2443 - accuracy: 0.8333 - val_loss: 2.4888 - val_accuracy: 0.3333\n",
            "Epoch 137/200\n",
            "3/3 [==============================] - 0s 20ms/step - loss: 0.1848 - accuracy: 0.9375 - val_loss: 0.8348 - val_accuracy: 0.8333\n",
            "Epoch 138/200\n",
            "3/3 [==============================] - 0s 20ms/step - loss: 0.2849 - accuracy: 0.8542 - val_loss: 0.6074 - val_accuracy: 0.8333\n",
            "Epoch 139/200\n",
            "3/3 [==============================] - 0s 19ms/step - loss: 0.2464 - accuracy: 0.7917 - val_loss: 0.9019 - val_accuracy: 0.8333\n",
            "Epoch 140/200\n",
            "3/3 [==============================] - 0s 20ms/step - loss: 0.3071 - accuracy: 0.7917 - val_loss: 1.3064 - val_accuracy: 0.5000\n",
            "Epoch 141/200\n",
            "3/3 [==============================] - 0s 22ms/step - loss: 0.3009 - accuracy: 0.8125 - val_loss: 1.7532 - val_accuracy: 0.5000\n",
            "Epoch 142/200\n",
            "3/3 [==============================] - 0s 23ms/step - loss: 0.2838 - accuracy: 0.8125 - val_loss: 1.8900 - val_accuracy: 0.5000\n",
            "Epoch 143/200\n",
            "3/3 [==============================] - 0s 22ms/step - loss: 0.2097 - accuracy: 0.8125 - val_loss: 1.9756 - val_accuracy: 0.5000\n",
            "Epoch 144/200\n",
            "3/3 [==============================] - 0s 21ms/step - loss: 0.2733 - accuracy: 0.7708 - val_loss: 2.2820 - val_accuracy: 0.5000\n",
            "Epoch 145/200\n",
            "3/3 [==============================] - 0s 22ms/step - loss: 0.2422 - accuracy: 0.7917 - val_loss: 1.2107 - val_accuracy: 0.5833\n",
            "Epoch 146/200\n",
            "3/3 [==============================] - 0s 20ms/step - loss: 0.2652 - accuracy: 0.8542 - val_loss: 0.8034 - val_accuracy: 0.8333\n",
            "Epoch 147/200\n",
            "3/3 [==============================] - 0s 20ms/step - loss: 0.2534 - accuracy: 0.8333 - val_loss: 0.8328 - val_accuracy: 0.8333\n",
            "Epoch 148/200\n",
            "3/3 [==============================] - 0s 22ms/step - loss: 0.1961 - accuracy: 0.8958 - val_loss: 1.3152 - val_accuracy: 0.5833\n",
            "Epoch 149/200\n",
            "3/3 [==============================] - 0s 25ms/step - loss: 0.2588 - accuracy: 0.8542 - val_loss: 1.8957 - val_accuracy: 0.5000\n",
            "Epoch 150/200\n",
            "3/3 [==============================] - 0s 20ms/step - loss: 0.2424 - accuracy: 0.8750 - val_loss: 2.4183 - val_accuracy: 0.5000\n",
            "Epoch 151/200\n",
            "3/3 [==============================] - 0s 20ms/step - loss: 0.2765 - accuracy: 0.7917 - val_loss: 1.5514 - val_accuracy: 0.5833\n",
            "Epoch 152/200\n",
            "3/3 [==============================] - 0s 20ms/step - loss: 0.1755 - accuracy: 0.8958 - val_loss: 0.8360 - val_accuracy: 0.8333\n",
            "Epoch 153/200\n",
            "3/3 [==============================] - 0s 22ms/step - loss: 0.2406 - accuracy: 0.8125 - val_loss: 0.7972 - val_accuracy: 0.8333\n",
            "Epoch 154/200\n",
            "3/3 [==============================] - 0s 21ms/step - loss: 0.2726 - accuracy: 0.8333 - val_loss: 1.5505 - val_accuracy: 0.5833\n",
            "Epoch 155/200\n",
            "3/3 [==============================] - 0s 21ms/step - loss: 0.3056 - accuracy: 0.7708 - val_loss: 2.4329 - val_accuracy: 0.5000\n",
            "Epoch 156/200\n",
            "3/3 [==============================] - 0s 22ms/step - loss: 0.2613 - accuracy: 0.8542 - val_loss: 2.1216 - val_accuracy: 0.5000\n",
            "Epoch 157/200\n",
            "3/3 [==============================] - 0s 19ms/step - loss: 0.1304 - accuracy: 0.9167 - val_loss: 0.7859 - val_accuracy: 0.8333\n",
            "Epoch 158/200\n",
            "3/3 [==============================] - 0s 20ms/step - loss: 0.1980 - accuracy: 0.8958 - val_loss: 0.6130 - val_accuracy: 0.8333\n",
            "Epoch 159/200\n",
            "3/3 [==============================] - 0s 20ms/step - loss: 0.2002 - accuracy: 0.8333 - val_loss: 1.2810 - val_accuracy: 0.6667\n",
            "Epoch 160/200\n",
            "3/3 [==============================] - 0s 19ms/step - loss: 0.2114 - accuracy: 0.9583 - val_loss: 2.1790 - val_accuracy: 0.5833\n",
            "Epoch 161/200\n",
            "3/3 [==============================] - 0s 20ms/step - loss: 0.2580 - accuracy: 0.8125 - val_loss: 1.4574 - val_accuracy: 0.5833\n",
            "Epoch 162/200\n",
            "3/3 [==============================] - 0s 20ms/step - loss: 0.1648 - accuracy: 0.8542 - val_loss: 0.4927 - val_accuracy: 0.8333\n",
            "Epoch 163/200\n",
            "3/3 [==============================] - 0s 21ms/step - loss: 0.2904 - accuracy: 0.7917 - val_loss: 0.5485 - val_accuracy: 0.8333\n",
            "Epoch 164/200\n",
            "3/3 [==============================] - 0s 20ms/step - loss: 0.2186 - accuracy: 0.8333 - val_loss: 1.1519 - val_accuracy: 0.5833\n",
            "Epoch 165/200\n",
            "3/3 [==============================] - 0s 22ms/step - loss: 0.2915 - accuracy: 0.8125 - val_loss: 2.0159 - val_accuracy: 0.5000\n",
            "Epoch 166/200\n",
            "3/3 [==============================] - 0s 20ms/step - loss: 0.1896 - accuracy: 0.8958 - val_loss: 2.8435 - val_accuracy: 0.3333\n",
            "Epoch 167/200\n",
            "3/3 [==============================] - 0s 20ms/step - loss: 0.2267 - accuracy: 0.8333 - val_loss: 2.0655 - val_accuracy: 0.5000\n",
            "Epoch 168/200\n",
            "3/3 [==============================] - 0s 20ms/step - loss: 0.1918 - accuracy: 0.8333 - val_loss: 1.5086 - val_accuracy: 0.5833\n",
            "Epoch 169/200\n",
            "3/3 [==============================] - 0s 22ms/step - loss: 0.2179 - accuracy: 0.8333 - val_loss: 1.1197 - val_accuracy: 0.6667\n",
            "Epoch 170/200\n",
            "3/3 [==============================] - 0s 21ms/step - loss: 0.2047 - accuracy: 0.8750 - val_loss: 0.9171 - val_accuracy: 0.6667\n",
            "Epoch 171/200\n",
            "3/3 [==============================] - 0s 20ms/step - loss: 0.2767 - accuracy: 0.8125 - val_loss: 0.8217 - val_accuracy: 0.7500\n",
            "Epoch 172/200\n",
            "3/3 [==============================] - 0s 19ms/step - loss: 0.2038 - accuracy: 0.8542 - val_loss: 0.8076 - val_accuracy: 0.7500\n",
            "Epoch 173/200\n",
            "3/3 [==============================] - 0s 22ms/step - loss: 0.1881 - accuracy: 0.8958 - val_loss: 0.8404 - val_accuracy: 0.7500\n",
            "Epoch 174/200\n",
            "3/3 [==============================] - 0s 21ms/step - loss: 0.2640 - accuracy: 0.7917 - val_loss: 0.9552 - val_accuracy: 0.6667\n",
            "Epoch 175/200\n",
            "3/3 [==============================] - 0s 21ms/step - loss: 0.2589 - accuracy: 0.8333 - val_loss: 1.2040 - val_accuracy: 0.6667\n",
            "Epoch 176/200\n",
            "3/3 [==============================] - 0s 23ms/step - loss: 0.1621 - accuracy: 0.8542 - val_loss: 1.4250 - val_accuracy: 0.5833\n",
            "Epoch 177/200\n",
            "3/3 [==============================] - 0s 20ms/step - loss: 0.2212 - accuracy: 0.7917 - val_loss: 1.6077 - val_accuracy: 0.5833\n",
            "Epoch 178/200\n",
            "3/3 [==============================] - 0s 21ms/step - loss: 0.2039 - accuracy: 0.8542 - val_loss: 1.7372 - val_accuracy: 0.5833\n",
            "Epoch 179/200\n",
            "3/3 [==============================] - 0s 21ms/step - loss: 0.2026 - accuracy: 0.8542 - val_loss: 1.8247 - val_accuracy: 0.5833\n",
            "Epoch 180/200\n",
            "3/3 [==============================] - 0s 20ms/step - loss: 0.2022 - accuracy: 0.8542 - val_loss: 1.8825 - val_accuracy: 0.5833\n",
            "Epoch 181/200\n",
            "3/3 [==============================] - 0s 23ms/step - loss: 0.2054 - accuracy: 0.8125 - val_loss: 1.8987 - val_accuracy: 0.5833\n",
            "Epoch 182/200\n",
            "3/3 [==============================] - 0s 20ms/step - loss: 0.1896 - accuracy: 0.8333 - val_loss: 1.8978 - val_accuracy: 0.5833\n",
            "Epoch 183/200\n",
            "3/3 [==============================] - 0s 20ms/step - loss: 0.2147 - accuracy: 0.8958 - val_loss: 1.8900 - val_accuracy: 0.5833\n",
            "Epoch 184/200\n",
            "3/3 [==============================] - 0s 21ms/step - loss: 0.1717 - accuracy: 0.9167 - val_loss: 1.8866 - val_accuracy: 0.5833\n",
            "Epoch 185/200\n",
            "3/3 [==============================] - 0s 23ms/step - loss: 0.1522 - accuracy: 0.8958 - val_loss: 0.9289 - val_accuracy: 0.6667\n",
            "Epoch 186/200\n",
            "3/3 [==============================] - 0s 20ms/step - loss: 0.1769 - accuracy: 0.8333 - val_loss: 0.5623 - val_accuracy: 0.8333\n",
            "Epoch 187/200\n",
            "3/3 [==============================] - 0s 22ms/step - loss: 0.1900 - accuracy: 0.8750 - val_loss: 0.6516 - val_accuracy: 0.8333\n",
            "Epoch 188/200\n",
            "3/3 [==============================] - 0s 21ms/step - loss: 0.1609 - accuracy: 0.9167 - val_loss: 0.9778 - val_accuracy: 0.6667\n",
            "Epoch 189/200\n",
            "3/3 [==============================] - 0s 21ms/step - loss: 0.1721 - accuracy: 0.9167 - val_loss: 1.3731 - val_accuracy: 0.6667\n",
            "Epoch 190/200\n",
            "3/3 [==============================] - 0s 22ms/step - loss: 0.2784 - accuracy: 0.7708 - val_loss: 1.7591 - val_accuracy: 0.5833\n",
            "Epoch 191/200\n",
            "3/3 [==============================] - 0s 21ms/step - loss: 0.2151 - accuracy: 0.8542 - val_loss: 2.0951 - val_accuracy: 0.5000\n",
            "Epoch 192/200\n",
            "3/3 [==============================] - 0s 23ms/step - loss: 0.2169 - accuracy: 0.8542 - val_loss: 2.3674 - val_accuracy: 0.5000\n",
            "Epoch 193/200\n",
            "3/3 [==============================] - 0s 21ms/step - loss: 0.2147 - accuracy: 0.7917 - val_loss: 1.4312 - val_accuracy: 0.6667\n",
            "Epoch 194/200\n",
            "3/3 [==============================] - 0s 23ms/step - loss: 0.2233 - accuracy: 0.8125 - val_loss: 0.7910 - val_accuracy: 0.8333\n",
            "Epoch 195/200\n",
            "3/3 [==============================] - 0s 20ms/step - loss: 0.2645 - accuracy: 0.7917 - val_loss: 0.6540 - val_accuracy: 0.8333\n",
            "Epoch 196/200\n",
            "3/3 [==============================] - 0s 20ms/step - loss: 0.2617 - accuracy: 0.8125 - val_loss: 1.0727 - val_accuracy: 0.7500\n",
            "Epoch 197/200\n",
            "3/3 [==============================] - 0s 21ms/step - loss: 0.1952 - accuracy: 0.8542 - val_loss: 1.8556 - val_accuracy: 0.5000\n",
            "Epoch 198/200\n",
            "3/3 [==============================] - 0s 24ms/step - loss: 0.1940 - accuracy: 0.8750 - val_loss: 2.7541 - val_accuracy: 0.3333\n",
            "Epoch 199/200\n",
            "3/3 [==============================] - 0s 20ms/step - loss: 0.2732 - accuracy: 0.7917 - val_loss: 2.9140 - val_accuracy: 0.3333\n",
            "Epoch 200/200\n",
            "3/3 [==============================] - 0s 20ms/step - loss: 0.2364 - accuracy: 0.7708 - val_loss: 0.7593 - val_accuracy: 0.8333\n"
          ]
        }
      ]
    },
    {
      "cell_type": "code",
      "source": [
        "Save_model(0, model)"
      ],
      "metadata": {
        "colab": {
          "base_uri": "https://localhost:8080/"
        },
        "id": "4m8pktPYXlgz",
        "outputId": "80d85df9-1b47-4744-b9e4-5f52c1a55b63"
      },
      "execution_count": 107,
      "outputs": [
        {
          "output_type": "stream",
          "name": "stdout",
          "text": [
            "INFO:tensorflow:Assets written to: /content/drive/MyDrive/Colab Notebooks/AI/ANN_Execises/Ex1_model0.h/assets\n"
          ]
        }
      ]
    },
    {
      "cell_type": "code",
      "source": [
        "# Upload file from computer to Colab\n",
        "\n",
        "# Import\n",
        "from google.colab import files\n",
        "uploaded = files.upload()"
      ],
      "metadata": {
        "colab": {
          "resources": {
            "http://localhost:8080/nbextensions/google.colab/files.js": {
              "data": "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",
              "ok": true,
              "headers": [
                [
                  "content-type",
                  "application/javascript"
                ]
              ],
              "status": 200,
              "status_text": ""
            }
          },
          "base_uri": "https://localhost:8080/",
          "height": 38
        },
        "id": "1Bp4CFQWge7Q",
        "outputId": "8a70dd13-4694-4510-dad6-5f8a4d108749"
      },
      "execution_count": 108,
      "outputs": [
        {
          "output_type": "display_data",
          "data": {
            "text/plain": [
              "<IPython.core.display.HTML object>"
            ],
            "text/html": [
              "\n",
              "     <input type=\"file\" id=\"files-ea513482-af8a-4972-938f-f11b811c1d8a\" name=\"files[]\" multiple disabled\n",
              "        style=\"border:none\" />\n",
              "     <output id=\"result-ea513482-af8a-4972-938f-f11b811c1d8a\">\n",
              "      Upload widget is only available when the cell has been executed in the\n",
              "      current browser session. Please rerun this cell to enable.\n",
              "      </output>\n",
              "      <script src=\"/nbextensions/google.colab/files.js\"></script> "
            ]
          },
          "metadata": {}
        }
      ]
    },
    {
      "cell_type": "code",
      "source": [
        "model = Load_model(0)\n",
        "Who_I_Am = [\n",
        "            \"Not Thanh\",\n",
        "            \"Thanh\"\n",
        "]\n",
        "\n",
        "img = cv2.imread(\"0.jpg\")\n",
        "min = np.min(img.shape[:2])    \n",
        "img = img[:min, :min]\n",
        "img = cv2.resize(img, IMG_SIZE)\n",
        "show_rgb_img(img)\n",
        "img = cv2.cvtColor(img, cv2.COLOR_BGR2GRAY)\n",
        "img = img.reshape(1, RESHAPED)\n",
        "# print(img.shape)\n",
        "img = img.astype('float32')\n",
        "img /= 255\n",
        "\n",
        "predictions = model.predict(img)\n",
        "print(Who_I_Am[np.argmax(predictions, axis = 1)[0]])"
      ],
      "metadata": {
        "colab": {
          "base_uri": "https://localhost:8080/",
          "height": 287
        },
        "id": "Gpzn6GRhYRLw",
        "outputId": "7f8b906e-89f7-4ecb-8ddf-4122ba0c8a93"
      },
      "execution_count": 114,
      "outputs": [
        {
          "output_type": "display_data",
          "data": {
            "text/plain": [
              "<Figure size 432x288 with 2 Axes>"
            ],
            "image/png": "[encoded data removed]"
          },
          "metadata": {
            "needs_background": "light"
          }
        },
        {
          "output_type": "stream",
          "name": "stdout",
          "text": [
            "Thanh\n"
          ]
        }
      ]
    }
  ]
}