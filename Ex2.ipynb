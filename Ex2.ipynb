{
  "nbformat": 4,
  "nbformat_minor": 0,
  "metadata": {
    "colab": {
      "name": "Ex2.ipynb",
      "provenance": [],
      "collapsed_sections": [],
      "authorship_tag": "ABX9TyMg8flnePWHbK9qytWbKu/P",
      "include_colab_link": true
    },
    "kernelspec": {
      "name": "python3",
      "display_name": "Python 3"
    },
    "language_info": {
      "name": "python"
    }
  },
  "cells": [
    {
      "cell_type": "markdown",
      "metadata": {
        "id": "view-in-github",
        "colab_type": "text"
      },
      "source": [
        "<a href=\"https://colab.research.google.com/github/thanhnt19146391/thanhnt19146391/blob/main/Ex2.ipynb\" target=\"_parent\"><img src=\"https://colab.research.google.com/assets/colab-badge.svg\" alt=\"Open In Colab\"/></a>"
      ]
    },
    {
      "cell_type": "code",
      "execution_count": null,
      "metadata": {
        "id": "1fCkOuBnyqn_"
      },
      "outputs": [],
      "source": [
        "import numpy as np\n",
        "from sklearn.preprocessing import StandardScaler\n",
        "from sklearn.utils import shuffle\n",
        "from keras.models import Sequential\n",
        "from keras.layers import Dense\n",
        "from tensorflow.keras.optimizers import Adam\n",
        "\n",
        "# Define Variables\n",
        "l1 = 40\n",
        "l2 = 50\n",
        "x_train = []\n",
        "y_train = []\n",
        "\n",
        "# Create Data\n",
        "for t1 in np.linspace(-(2 * np.pi), 2 * np.pi, 500):\n",
        "  for t2 in np.linspace(-(2 * np.pi), 2 * np.pi, 500):\n",
        "    x = l1*np.cos(t1) + l2*np.cos(t1+t2)\n",
        "    y = l1*np.sin(t1) + l2*np.sin(t1+t2)\n",
        "    x_train.append(np.array([x,y]))\n",
        "    y_train.append(np.array([t1,t2]))\n",
        "\n",
        "# Convert to array\n",
        "scaler = StandardScaler()\n",
        "x_train = np.array(scaler.fit_transform(x_train))\n",
        "y_train = np.array(y_train)\n",
        "\n",
        "# Shuffle\n",
        "x_train, y_train = shuffle(x_train, y_train)"
      ]
    },
    {
      "cell_type": "code",
      "source": [
        "model = Sequential()\n",
        "model.add(Dense(256, activation='relu', input_shape = (2,)))\n",
        "model.add(Dense(256, activation='relu'))\n",
        "model.add(Dense(2, activation='linear'))\n",
        "\n",
        "model.compile(loss='mae', optimizer = Adam(learning_rate=0.0001))\n",
        "\n",
        "history = model.fit(x_train, y_train, batch_size = 512, epochs = 10, validation_split = 0.2)"
      ],
      "metadata": {
        "colab": {
          "base_uri": "https://localhost:8080/"
        },
        "id": "kltrTKr3zmFM",
        "outputId": "376e7ae3-c860-48fa-dffd-35c875c133aa"
      },
      "execution_count": null,
      "outputs": [
        {
          "output_type": "stream",
          "name": "stdout",
          "text": [
            "Epoch 1/10\n",
            "391/391 [==============================] - 4s 8ms/step - loss: 3.1470 - val_loss: 3.1530\n",
            "Epoch 2/10\n",
            "391/391 [==============================] - 3s 8ms/step - loss: 3.1468 - val_loss: 3.1535\n",
            "Epoch 3/10\n",
            "391/391 [==============================] - 3s 8ms/step - loss: 3.1468 - val_loss: 3.1540\n",
            "Epoch 4/10\n",
            "391/391 [==============================] - 3s 8ms/step - loss: 3.1468 - val_loss: 3.1542\n",
            "Epoch 5/10\n",
            "391/391 [==============================] - 4s 10ms/step - loss: 3.1467 - val_loss: 3.1543\n",
            "Epoch 6/10\n",
            "391/391 [==============================] - 3s 8ms/step - loss: 3.1466 - val_loss: 3.1541\n",
            "Epoch 7/10\n",
            "391/391 [==============================] - 3s 8ms/step - loss: 3.1466 - val_loss: 3.1543\n",
            "Epoch 8/10\n",
            "391/391 [==============================] - 3s 8ms/step - loss: 3.1466 - val_loss: 3.1545\n",
            "Epoch 9/10\n",
            "391/391 [==============================] - 3s 8ms/step - loss: 3.1466 - val_loss: 3.1547\n",
            "Epoch 10/10\n",
            "391/391 [==============================] - 3s 8ms/step - loss: 3.1465 - val_loss: 3.1547\n"
          ]
        }
      ]
    },
    {
      "cell_type": "code",
      "source": [
        "# Input x = 90, y = -6\n",
        "test = scaler.transform(np.array([[90, -6]]))\n",
        "t1 = model.predict(test)[0][0]\n",
        "t2 = model.predict(test)[0][1]\n",
        "\n",
        "x = l1*np.cos(t1) + l2*np.cos(t2+t1)\n",
        "y = l1*np.sin(t1) + l2*np.sin(t2+t1)\n",
        "\n",
        "print(\"Predictions: t1 = \" + str(t1) + \" and t2 = \"+ str(t2))\n",
        "print(\"Recalculation: x =\" + str(x) + \"and y = \"+ str(y))"
      ],
      "metadata": {
        "colab": {
          "base_uri": "https://localhost:8080/"
        },
        "id": "rz-n8fMq0WAc",
        "outputId": "ddf9ebe4-ec33-4bf7-97ed-00d5e0c25682"
      },
      "execution_count": null,
      "outputs": [
        {
          "output_type": "stream",
          "name": "stdout",
          "text": [
            "Predictions: t1 = -0.042783443 and t2 = -0.055449486\n",
            "Recalculation: x =89.72234785556793and y = -6.614566594362259\n"
          ]
        }
      ]
    },
    {
      "cell_type": "code",
      "source": [
        ""
      ],
      "metadata": {
        "id": "Me0dNf-F0WHI"
      },
      "execution_count": null,
      "outputs": []
    }
  ]
}