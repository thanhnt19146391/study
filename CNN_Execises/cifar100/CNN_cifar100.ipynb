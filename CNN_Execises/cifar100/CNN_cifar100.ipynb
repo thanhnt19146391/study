{
  "nbformat": 4,
  "nbformat_minor": 0,
  "metadata": {
    "colab": {
      "name": "CNN_cifar100.ipynb",
      "provenance": [],
      "collapsed_sections": [],
      "toc_visible": true,
      "include_colab_link": true
    },
    "kernelspec": {
      "name": "python3",
      "display_name": "Python 3"
    },
    "language_info": {
      "name": "python"
    }
  },
  "cells": [
    {
      "cell_type": "markdown",
      "metadata": {
        "id": "view-in-github",
        "colab_type": "text"
      },
      "source": [
        "<a href=\"https://colab.research.google.com/github/thanhnt19146391/thanhnt19146391/blob/main/CNN_Execises/cifar100/CNN_cifar100.ipynb\" target=\"_parent\"><img src=\"https://colab.research.google.com/assets/colab-badge.svg\" alt=\"Open In Colab\"/></a>"
      ]
    },
    {
      "cell_type": "markdown",
      "source": [
        "# Import"
      ],
      "metadata": {
        "id": "7PoDvDV2i9eH"
      }
    },
    {
      "cell_type": "code",
      "execution_count": null,
      "metadata": {
        "id": "8UzH_8R0UW8r"
      },
      "outputs": [],
      "source": [
        "# Import necessary pakages\n",
        "import tensorflow as tf\n",
        "from keras.models import Sequential, load_model\n",
        "from keras.layers import Dense, Conv2D, Dropout, MaxPooling2D, Flatten, BatchNormalization\n",
        "from tensorflow.keras.optimizers import Adam, RMSprop, SGD\n",
        "from keras.datasets import cifar100\n",
        "from keras.utils import np_utils\n",
        "from tensorflow.keras.preprocessing.image import load_img, img_to_array\n",
        "import matplotlib.pyplot as plt\n",
        "import numpy as np\n",
        "import pandas as pd"
      ]
    },
    {
      "cell_type": "code",
      "source": [
        "def make_some_noise():\n",
        "    # Play an audio \n",
        "    from google.colab import output\n",
        "    output.eval_js('new Audio(\"https://www.soundjay.com/nature/sounds/rain-01.mp3\").play()')"
      ],
      "metadata": {
        "id": "rc2cpV4l5fPg"
      },
      "execution_count": null,
      "outputs": []
    },
    {
      "cell_type": "code",
      "source": [
        "def upload_files():\n",
        "    # Upload file from computer to Colab\n",
        "    from google.colab import files\n",
        "    uploaded = files.upload()"
      ],
      "metadata": {
        "id": "YA1jEc_e5hCr"
      },
      "execution_count": null,
      "outputs": []
    },
    {
      "cell_type": "markdown",
      "source": [
        "# Declare"
      ],
      "metadata": {
        "id": "ThhhqVdzjD4P"
      }
    },
    {
      "cell_type": "code",
      "source": [
        "PATH = '/content/drive/MyDrive/Colab Notebooks/AI/CNN_Execises/cifar100'"
      ],
      "metadata": {
        "id": "GFwydc4vnnPx"
      },
      "execution_count": null,
      "outputs": []
    },
    {
      "cell_type": "code",
      "source": [
        "(x_train, y_train), (x_test, y_test) = cifar100.load_data()\n",
        "\n",
        "print('x_train shape: ', x_train.shape)\n",
        "print('y_train shape: ', y_train.shape)\n",
        "print('x_test shape: ', x_test.shape)\n",
        "print('y_test shape: ', y_test.shape)"
      ],
      "metadata": {
        "id": "JDcl6-BsWvjU",
        "colab": {
          "base_uri": "https://localhost:8080/"
        },
        "outputId": "07084074-a541-403b-a7dc-7493a3920ada"
      },
      "execution_count": null,
      "outputs": [
        {
          "output_type": "stream",
          "name": "stdout",
          "text": [
            "x_train shape:  (50000, 32, 32, 3)\n",
            "y_train shape:  (50000, 1)\n",
            "x_test shape:  (10000, 32, 32, 3)\n",
            "y_test shape:  (10000, 1)\n"
          ]
        }
      ]
    },
    {
      "cell_type": "code",
      "source": [
        "def format_input_data(data):\n",
        "    data = data.astype('float32')\n",
        "    data /= 255\n",
        "    return data"
      ],
      "metadata": {
        "id": "UNRx_eAlZmzG"
      },
      "execution_count": null,
      "outputs": []
    },
    {
      "cell_type": "code",
      "source": [
        "def format_output_data(data):\n",
        "    data = np_utils.to_categorical(data)\n",
        "    return data"
      ],
      "metadata": {
        "id": "AyS8C6SfaW-o"
      },
      "execution_count": null,
      "outputs": []
    },
    {
      "cell_type": "code",
      "source": [
        "# format datasets\n",
        "x_train = format_input_data(x_train)\n",
        "x_test = format_input_data(x_test)\n",
        "y_train = format_output_data(y_train)\n",
        "y_test = format_output_data(y_test)\n",
        "\n",
        "print('x_train shape: ', x_train.shape)\n",
        "print('y_train shape: ', y_train.shape)\n",
        "print('x_test shape: ', x_test.shape)\n",
        "print('y_test shape: ', y_test.shape)"
      ],
      "metadata": {
        "id": "cBZMLGBXa1O3",
        "colab": {
          "base_uri": "https://localhost:8080/"
        },
        "outputId": "63da5d5a-de24-45a7-df23-d6d6eebb0f2b"
      },
      "execution_count": null,
      "outputs": [
        {
          "output_type": "stream",
          "name": "stdout",
          "text": [
            "x_train shape:  (50000, 32, 32, 3)\n",
            "y_train shape:  (50000, 100)\n",
            "x_test shape:  (10000, 32, 32, 3)\n",
            "y_test shape:  (10000, 100)\n"
          ]
        }
      ]
    },
    {
      "cell_type": "markdown",
      "source": [
        "# Build model "
      ],
      "metadata": {
        "id": "XPQcosKgiUc4"
      }
    },
    {
      "cell_type": "code",
      "source": [
        "def build_model7(input_shape, num_class):\n",
        "    model = Sequential()\n",
        "\n",
        "    # 1st block\n",
        "    model.add(Conv2D(32, (3,3), padding='same',\n",
        "    input_shape=input_shape, activation='relu'))\n",
        "    model.add(BatchNormalization())\n",
        "    model.add(Conv2D(32, (3,3), padding='same',\n",
        "    activation='relu'))\n",
        "    model.add(BatchNormalization())\n",
        "    model.add(MaxPooling2D(pool_size=(2,2)))\n",
        "    model.add(Dropout(0.2))\n",
        "\n",
        "    # 2nd block\n",
        "    model.add(Conv2D(64, (3,3), padding='same',\n",
        "    activation='relu'))\n",
        "    model.add(BatchNormalization())\n",
        "    model.add(Conv2D(64, (3,3), padding='same',\n",
        "    activation='relu'))\n",
        "    model.add(BatchNormalization())\n",
        "    model.add(MaxPooling2D(pool_size=(2,2)))\n",
        "    model.add(Dropout(0.3))\n",
        "\n",
        "    # 3rd block\n",
        "    model.add(Conv2D(128, (3,3), padding='same',\n",
        "    activation='relu'))\n",
        "    model.add(BatchNormalization())\n",
        "    model.add(Conv2D(128, (3,3), padding='same',\n",
        "    activation='relu'))\n",
        "    model.add(BatchNormalization())\n",
        "    model.add(MaxPooling2D(pool_size=(2,2)))\n",
        "    model.add(Dropout(0.4))\n",
        "\n",
        "    # # 4th block\n",
        "    model.add(Conv2D(256, (3,3), padding='same',\n",
        "    activation='relu'))\n",
        "    model.add(BatchNormalization())\n",
        "    model.add(Conv2D(256, (3,3), padding='same',\n",
        "    activation='relu'))\n",
        "    model.add(BatchNormalization())\n",
        "    model.add(MaxPooling2D(pool_size=(2,2)))\n",
        "    model.add(Dropout(0.5))\n",
        "\n",
        "    # dense\n",
        "    model.add(Flatten())\n",
        "\n",
        "  \n",
        "    # model.add(\n",
        "    #     Dense(\n",
        "    #         4096,\n",
        "    #         activation = 'relu',\n",
        "    #         kernel_initializer = \"he_uniform\"\n",
        "    #     )\n",
        "    # )\n",
        "         \n",
        "    # model.add(\n",
        "    #     Dense(\n",
        "    #         2048,\n",
        "    #         activation = 'relu',\n",
        "    #         kernel_initializer = \"he_uniform\"\n",
        "    #     )\n",
        "    # )\n",
        "\n",
        "    model.add(\n",
        "        Dense(\n",
        "            128,\n",
        "            activation = 'relu',\n",
        "            kernel_initializer = \"he_uniform\"\n",
        "        )\n",
        "    )\n",
        "\n",
        "    # model.add(\n",
        "    #     Dense(\n",
        "    #         128,\n",
        "    #         activation = 'relu',\n",
        "    #         kernel_initializer = \"he_uniform\"\n",
        "    #     )\n",
        "    # )\n",
        "\n",
        "    model.add(Dense(num_class, activation='softmax'))\n",
        "    \n",
        "    model.summary()\n",
        "    return model"
      ],
      "metadata": {
        "id": "g0jQFWVHNKJB"
      },
      "execution_count": null,
      "outputs": []
    },
    {
      "cell_type": "code",
      "source": [
        "def build_model6(input_shape, num_class):\n",
        "    model = Sequential()\n",
        "\n",
        "    # 1st block\n",
        "    model.add(Conv2D(32, (3,3), padding='same',\n",
        "    input_shape=input_shape, activation='relu'))\n",
        "    model.add(BatchNormalization())\n",
        "    model.add(Conv2D(32, (3,3), padding='same',\n",
        "    activation='relu'))\n",
        "    model.add(BatchNormalization())\n",
        "    model.add(MaxPooling2D(pool_size=(2,2)))\n",
        "    model.add(Dropout(0.2))\n",
        "\n",
        "    # 2nd block\n",
        "    model.add(Conv2D(64, (3,3), padding='same',\n",
        "    activation='relu'))\n",
        "    model.add(BatchNormalization())\n",
        "    model.add(Conv2D(64, (3,3), padding='same',\n",
        "    activation='relu'))\n",
        "    model.add(BatchNormalization())\n",
        "    model.add(MaxPooling2D(pool_size=(2,2)))\n",
        "    model.add(Dropout(0.3))\n",
        "\n",
        "    # 3rd block\n",
        "    model.add(Conv2D(128, (3,3), padding='same',\n",
        "    activation='relu'))\n",
        "    model.add(BatchNormalization())\n",
        "    model.add(Conv2D(128, (3,3), padding='same',\n",
        "    activation='relu'))\n",
        "    model.add(BatchNormalization())\n",
        "    model.add(MaxPooling2D(pool_size=(2,2)))\n",
        "    model.add(Dropout(0.4))\n",
        "\n",
        "    # # 4th block\n",
        "    model.add(Conv2D(256, (3,3), padding='same',\n",
        "    activation='relu'))\n",
        "    model.add(BatchNormalization())\n",
        "    model.add(Conv2D(256, (3,3), padding='same',\n",
        "    activation='relu'))\n",
        "    model.add(BatchNormalization())\n",
        "    model.add(MaxPooling2D(pool_size=(2,2)))\n",
        "    model.add(Dropout(0.5))\n",
        "\n",
        "    # dense\n",
        "    model.add(Flatten())\n",
        "\n",
        "  \n",
        "\n",
        "    # model.add(\n",
        "    #     Dense(\n",
        "    #         4096,\n",
        "    #         activation = 'relu',\n",
        "    #         kernel_initializer = \"he_uniform\"\n",
        "    #     )\n",
        "    # )\n",
        "         \n",
        "    # model.add(\n",
        "    #     Dense(\n",
        "    #         2048,\n",
        "    #         activation = 'relu',\n",
        "    #         kernel_initializer = \"he_uniform\"\n",
        "    #     )\n",
        "    # )\n",
        "\n",
        "    model.add(\n",
        "        Dense(\n",
        "            256,\n",
        "            activation = 'relu',\n",
        "            kernel_initializer = \"he_uniform\"\n",
        "        )\n",
        "    )\n",
        "\n",
        "    model.add(Dense(num_class, activation='softmax'))\n",
        "    \n",
        "    model.summary()\n",
        "    return model"
      ],
      "metadata": {
        "id": "1p-eU4mneL7_"
      },
      "execution_count": null,
      "outputs": []
    },
    {
      "cell_type": "code",
      "source": [
        "def build_model5(input_shape, num_class):\n",
        "    model = Sequential()\n",
        "\n",
        "    # 1st block\n",
        "    model.add(Conv2D(32, (3,3), padding='same',\n",
        "    input_shape=input_shape, activation='relu'))\n",
        "    model.add(BatchNormalization())\n",
        "    model.add(Conv2D(32, (3,3), padding='same',\n",
        "    activation='relu'))\n",
        "    model.add(BatchNormalization())\n",
        "    model.add(MaxPooling2D(pool_size=(2,2)))\n",
        "    model.add(Dropout(0.2))\n",
        "\n",
        "    # 2nd block\n",
        "    model.add(Conv2D(64, (3,3), padding='same',\n",
        "    activation='relu'))\n",
        "    model.add(BatchNormalization())\n",
        "    model.add(Conv2D(64, (3,3), padding='same',\n",
        "    activation='relu'))\n",
        "    model.add(BatchNormalization())\n",
        "    model.add(MaxPooling2D(pool_size=(2,2)))\n",
        "    model.add(Dropout(0.3))\n",
        "\n",
        "    # 3rd block\n",
        "    model.add(Conv2D(128, (3,3), padding='same',\n",
        "    activation='relu'))\n",
        "    model.add(BatchNormalization())\n",
        "    model.add(Conv2D(128, (3,3), padding='same',\n",
        "    activation='relu'))\n",
        "    model.add(BatchNormalization())\n",
        "    model.add(MaxPooling2D(pool_size=(2,2)))\n",
        "    model.add(Dropout(0.4))\n",
        "\n",
        "    # 4th block\n",
        "    model.add(Conv2D(256, (3,3), padding='same',\n",
        "    activation='relu'))\n",
        "    model.add(BatchNormalization())\n",
        "    model.add(Conv2D(256, (3,3), padding='same',\n",
        "    activation='relu'))\n",
        "    model.add(BatchNormalization())\n",
        "    model.add(MaxPooling2D(pool_size=(2,2)))\n",
        "    model.add(Dropout(0.5))\n",
        "\n",
        "    # dense\n",
        "    model.add(Flatten())\n",
        "\n",
        "  \n",
        "\n",
        "    model.add(\n",
        "        Dense(\n",
        "            2048,\n",
        "            activation = 'relu',\n",
        "            kernel_initializer = \"he_uniform\"\n",
        "        )\n",
        "    )\n",
        "         \n",
        "    # model.add(\n",
        "    #     Dense(\n",
        "    #         2048,\n",
        "    #         activation = 'relu',\n",
        "    #         kernel_initializer = \"he_uniform\"\n",
        "    #     )\n",
        "    # )\n",
        "    # model.add(\n",
        "    #     Dense(\n",
        "    #         2048,\n",
        "    #         activation = 'relu',\n",
        "    #         kernel_initializer = \"he_uniform\"\n",
        "    #     )\n",
        "    # )\n",
        "\n",
        "    model.add(Dense(num_class, activation='softmax'))\n",
        "    \n",
        "    model.summary()\n",
        "    return model"
      ],
      "metadata": {
        "id": "qnc50yAqEuC7"
      },
      "execution_count": null,
      "outputs": []
    },
    {
      "cell_type": "code",
      "source": [
        "# Build the model\n",
        "def build_model1(input_shape, num_class):\n",
        "    model = Sequential()\n",
        "\n",
        "    model.add(\n",
        "        Conv2D(\n",
        "            64,\n",
        "            (3, 3),\n",
        "            activation = \"relu\",\n",
        "            kernel_initializer = \"he_uniform\",\n",
        "            padding = 'same',\n",
        "            input_shape = input_shape\n",
        "        )\n",
        "    )\n",
        "    model.add(BatchNormalization())\n",
        "    model.add(Conv2D(64, (3,3), padding='same',\n",
        "    activation='relu'))\n",
        "    model.add(BatchNormalization())\n",
        "    model.add(MaxPooling2D(pool_size=(2,2)))\n",
        "\n",
        "\n",
        "    model.add(\n",
        "        Conv2D(\n",
        "            128, \n",
        "            (3, 3),\n",
        "            activation = \"relu\",\n",
        "            kernel_initializer = \"he_uniform\",\n",
        "            padding = 'same'\n",
        "        )\n",
        "    )\n",
        "    model.add(BatchNormalization())\n",
        "    model.add(Conv2D(128, (3,3), padding='same',\n",
        "    activation='relu'))\n",
        "    model.add(BatchNormalization())\n",
        "    # model.add(MaxPooling2D((2,2)))\n",
        "    \n",
        "    \n",
        "    model.add(\n",
        "        Conv2D(\n",
        "            256, \n",
        "            (3, 3),\n",
        "            activation = \"relu\",\n",
        "            kernel_initializer = \"he_uniform\",\n",
        "            padding = 'same'\n",
        "        )\n",
        "    )\n",
        "    model.add(BatchNormalization())\n",
        "    model.add(Conv2D(256, (3,3), padding='same',\n",
        "    activation='relu'))\n",
        "    model.add(BatchNormalization())\n",
        "    # model.add(MaxPooling2D((2,2)))\n",
        "    \n",
        "    model.add(\n",
        "        Conv2D(\n",
        "            512, \n",
        "            (3, 3),\n",
        "            activation = \"relu\",\n",
        "            kernel_initializer = \"he_uniform\",\n",
        "            padding = 'same'\n",
        "        )\n",
        "    )\n",
        "    model.add(BatchNormalization())\n",
        "    model.add(Conv2D(512, (3,3), padding='same',\n",
        "    activation='relu'))\n",
        "    model.add(BatchNormalization())\n",
        "    # model.add(MaxPooling2D((2,2)))\n",
        "\n",
        "    # model.add(\n",
        "    #     Conv2D(\n",
        "    #         512, \n",
        "    #         (3, 3),\n",
        "    #         activation = \"relu\",\n",
        "    #         kernel_initializer = \"he_uniform\",\n",
        "    #         padding = 'same'\n",
        "    #     )\n",
        "    # )\n",
        "    # model.add(BatchNormalization())\n",
        "    # model.add(Conv2D(512, (3,3), padding='same',\n",
        "    # activation='relu'))\n",
        "    # model.add(BatchNormalization())\n",
        "    # model.add(MaxPooling2D((2,2)))\n",
        "\n",
        "    model.add(Flatten())\n",
        "\n",
        "    model.add(\n",
        "        Dense(\n",
        "            2048,\n",
        "            activation = \"relu\",\n",
        "            kernel_initializer = \"he_uniform\"\n",
        "        )\n",
        "    )\n",
        "\n",
        "    # model.add(\n",
        "    #     Dropout(0.5)\n",
        "    # )\n",
        "\n",
        "    model.add(\n",
        "        Dense(\n",
        "            2048,\n",
        "            activation = 'relu',\n",
        "            kernel_initializer = \"he_uniform\"\n",
        "        )\n",
        "    )\n",
        "\n",
        "    model.add(\n",
        "        Dense(\n",
        "            2048,\n",
        "            activation = 'relu',\n",
        "            kernel_initializer = \"he_uniform\"\n",
        "        )\n",
        "    )\n",
        "    # model.add(\n",
        "    #     Dropout(0.5)\n",
        "    # )\n",
        "\n",
        "    model.add(\n",
        "        Dense(\n",
        "            100,\n",
        "            activation = \"softmax\"\n",
        "        )\n",
        "    )\n",
        "\n",
        "    model.summary()\n",
        "    \n",
        "    return model"
      ],
      "metadata": {
        "id": "Yr9InHnMeJKX"
      },
      "execution_count": null,
      "outputs": []
    },
    {
      "cell_type": "code",
      "source": [
        "def build_model2(input_shape, classes):\n",
        "    model = Sequential()\n",
        "    model.add(Conv2D(32, (3, 3), activation='relu',\n",
        "    input_shape=input_shape))\n",
        "    model.add(MaxPooling2D(pool_size=(2, 2)))\n",
        "    model.add(Dropout(0.25))\n",
        "    model.add(Flatten())\n",
        "    model.add(Dense(512, activation='relu'))\n",
        "    model.add(Dropout(0.5))\n",
        "    model.add(Dense(classes, activation='softmax'))\n",
        "    return model"
      ],
      "metadata": {
        "id": "1wKKvqDHpZ0J"
      },
      "execution_count": null,
      "outputs": []
    },
    {
      "cell_type": "code",
      "source": [
        "def build_model3(input_shape, num_class):\n",
        "    model = Sequential()\n",
        "\n",
        "    # 1st block\n",
        "    model.add(Conv2D(32, (3,3), padding='same',\n",
        "    input_shape=input_shape, activation='relu'))\n",
        "    model.add(BatchNormalization())\n",
        "    model.add(Conv2D(32, (3,3), padding='same',\n",
        "    activation='relu'))\n",
        "    model.add(BatchNormalization())\n",
        "    model.add(MaxPooling2D(pool_size=(2,2)))\n",
        "    model.add(Dropout(0.2))\n",
        "\n",
        "    # 2nd block\n",
        "    model.add(Conv2D(64, (3,3), padding='same',\n",
        "    activation='relu'))\n",
        "    model.add(BatchNormalization())\n",
        "    model.add(Conv2D(64, (3,3), padding='same',\n",
        "    activation='relu'))\n",
        "    model.add(BatchNormalization())\n",
        "    model.add(MaxPooling2D(pool_size=(2,2)))\n",
        "    model.add(Dropout(0.3))\n",
        "\n",
        "    # 3d block\n",
        "    model.add(Conv2D(128, (3,3), padding='same',\n",
        "    activation='relu'))\n",
        "    model.add(BatchNormalization())\n",
        "    model.add(Conv2D(128, (3,3), padding='same',\n",
        "    activation='relu'))\n",
        "    model.add(BatchNormalization())\n",
        "    model.add(MaxPooling2D(pool_size=(2,2)))\n",
        "    model.add(Dropout(0.4))\n",
        "\n",
        "    # dense\n",
        "    model.add(Flatten())\n",
        "    model.add(Dense(num_class, activation='softmax'))\n",
        "    \n",
        "    model.summary()\n",
        "    return model"
      ],
      "metadata": {
        "id": "XvKdQWXnEG3k"
      },
      "execution_count": null,
      "outputs": []
    },
    {
      "cell_type": "code",
      "source": [
        "def build_model4(input_shape, num_class):\n",
        "    model = Sequential()\n",
        "\n",
        "    # 1st block\n",
        "    model.add(Conv2D(32, (3,3), padding='same',\n",
        "    input_shape=input_shape, activation='relu'))\n",
        "    model.add(BatchNormalization())\n",
        "    model.add(Conv2D(32, (3,3), padding='same',\n",
        "    activation='relu'))\n",
        "    model.add(BatchNormalization())\n",
        "    model.add(MaxPooling2D(pool_size=(2,2)))\n",
        "    model.add(Dropout(0.2))\n",
        "\n",
        "    # 2nd block\n",
        "    model.add(Conv2D(64, (3,3), padding='same',\n",
        "    activation='relu'))\n",
        "    model.add(BatchNormalization())\n",
        "    model.add(Conv2D(64, (3,3), padding='same',\n",
        "    activation='relu'))\n",
        "    model.add(BatchNormalization())\n",
        "    model.add(MaxPooling2D(pool_size=(2,2)))\n",
        "    model.add(Dropout(0.3))\n",
        "\n",
        "    # 3rd block\n",
        "    model.add(Conv2D(128, (3,3), padding='same',\n",
        "    activation='relu'))\n",
        "    model.add(BatchNormalization())\n",
        "    model.add(Conv2D(128, (3,3), padding='same',\n",
        "    activation='relu'))\n",
        "    model.add(BatchNormalization())\n",
        "    model.add(MaxPooling2D(pool_size=(2,2)))\n",
        "    model.add(Dropout(0.4))\n",
        "\n",
        "    # 4th block\n",
        "    model.add(Conv2D(256, (3,3), padding='same',\n",
        "    activation='relu'))\n",
        "    model.add(BatchNormalization())\n",
        "    model.add(Conv2D(256, (3,3), padding='same',\n",
        "    activation='relu'))\n",
        "    model.add(BatchNormalization())\n",
        "    model.add(MaxPooling2D(pool_size=(2,2)))\n",
        "    model.add(Dropout(0.5))\n",
        "\n",
        "    # dense\n",
        "    model.add(Flatten())\n",
        "\n",
        "    model.add(\n",
        "        Dense(\n",
        "            128,\n",
        "            activation = \"relu\",\n",
        "            kernel_initializer = \"he_uniform\"\n",
        "        )\n",
        "    )\n",
        "\n",
        "    model.add(Dense(num_class, activation='softmax'))\n",
        "    \n",
        "    model.summary()\n",
        "    return model"
      ],
      "metadata": {
        "id": "phNmzrbmSfI2"
      },
      "execution_count": null,
      "outputs": []
    },
    {
      "cell_type": "markdown",
      "source": [
        "# Train model "
      ],
      "metadata": {
        "id": "4YaAUSozitCO"
      }
    },
    {
      "cell_type": "code",
      "source": [
        "def train_model7(model):\n",
        "    opt = SGD(\n",
        "        lr = 0.01, \n",
        "        momentum = 0.9\n",
        "    )\n",
        "\n",
        "    model.compile(loss='categorical_crossentropy',\n",
        "    optimizer = Adam(),\n",
        "    metrics=['accuracy'])\n",
        "    \n",
        "    # train\n",
        "    batch_size = 64\n",
        "    global x_train, y_train, x_test, y_test\n",
        "    history = model.fit(x_train, y_train, batch_size=batch_size,\n",
        "    epochs=200, validation_data=(x_test,y_test))\n",
        "    score = model.evaluate(x_test, y_test, batch_size=batch_size)\n",
        "    print(\"\\nTest score:\", score[0])\n",
        "    print('Test accuracy:', score[1])\n",
        "    return history"
      ],
      "metadata": {
        "id": "6RwBlA8INU-r"
      },
      "execution_count": null,
      "outputs": []
    },
    {
      "cell_type": "code",
      "source": [
        "def train_model6(model):\n",
        "    model.compile(loss='categorical_crossentropy',\n",
        "    optimizer='Adam',\n",
        "    metrics=['accuracy'])\n",
        "    \n",
        "    # train\n",
        "    batch_size = 64\n",
        "    global x_train, y_train, x_test, y_test\n",
        "    history = model.fit(x_train, y_train, batch_size=batch_size,\n",
        "    epochs=150, validation_data=(x_test,y_test))\n",
        "    score = model.evaluate(x_test, y_test, batch_size=batch_size)\n",
        "    print(\"\\nTest score:\", score[0])\n",
        "    print('Test accuracy:', score[1])\n",
        "    return history"
      ],
      "metadata": {
        "id": "L2sL5hl6ejfn"
      },
      "execution_count": null,
      "outputs": []
    },
    {
      "cell_type": "code",
      "source": [
        "def train_model5(model):\n",
        "    model.compile(loss='categorical_crossentropy',\n",
        "    optimizer='RMSprop',\n",
        "    metrics=['accuracy'])\n",
        "    \n",
        "    # train\n",
        "    batch_size = 64\n",
        "    global x_train, y_train, x_test, y_test\n",
        "    history = model.fit(x_train, y_train, batch_size=batch_size,\n",
        "    epochs=100, validation_data=(x_test,y_test))\n",
        "    score = model.evaluate(x_test, y_test, batch_size=batch_size)\n",
        "    print(\"\\nTest score:\", score[0])\n",
        "    print('Test accuracy:', score[1])\n",
        "    return history"
      ],
      "metadata": {
        "id": "YczmwchLFTcD"
      },
      "execution_count": null,
      "outputs": []
    },
    {
      "cell_type": "code",
      "source": [
        "# complile the model\n",
        "def train_model1(model):\n",
        "    opt = SGD(\n",
        "        lr = 0.01, \n",
        "        momentum = 0.9\n",
        "    )\n",
        "\n",
        "    model.compile(\n",
        "        optimizer = opt,\n",
        "        loss = \"categorical_crossentropy\",\n",
        "        metrics = [\"accuracy\"]\n",
        "    )\n",
        "\n",
        "    global x_train, y_train, x_test, y_test\n",
        "    \n",
        "    history = model.fit(\n",
        "        x_train, y_train,\n",
        "        epochs = 50, \n",
        "        batch_size = 64,\n",
        "        validation_data = (x_test, y_test), \n",
        "        verbose = 1 \n",
        "    )\n",
        "    score = model.evaluate(x_test, y_test, batch_size=64)\n",
        "    print(\"\\nTest score:\", score[0])\n",
        "    print('Test accuracy:', score[1])\n",
        "    return history"
      ],
      "metadata": {
        "id": "rXDKW4_Gk8rr"
      },
      "execution_count": null,
      "outputs": []
    },
    {
      "cell_type": "code",
      "source": [
        "def train_model2(model):\n",
        "    callbacks = [\n",
        "    # Write TensorBoard logs to './logs' directory\n",
        "    tf.keras.callbacks.TensorBoard(log_dir='./logs')\n",
        "    ]\n",
        "    # train\n",
        "    model.compile(loss='categorical_crossentropy', optimizer=RMSprop(),\n",
        "    metrics=['accuracy'])\n",
        "    global x_train, y_train, x_test, y_test\n",
        "    history = model.fit(x_train, y_train, batch_size=512,\n",
        "    epochs=20, validation_split=0.2,\n",
        "    verbose=1, callbacks=callbacks)\n",
        "    score = model.evaluate(x_test, y_test,\n",
        "    batch_size=512, verbose=1)\n",
        "    print(\"\\nTest score:\", score[0])\n",
        "    print('Test accuracy:', score[1])\n",
        "    return history"
      ],
      "metadata": {
        "id": "skihx_7_p5UA"
      },
      "execution_count": null,
      "outputs": []
    },
    {
      "cell_type": "code",
      "source": [
        "def train_model3(model):\n",
        "    model.compile(loss='categorical_crossentropy',\n",
        "    optimizer='RMSprop',\n",
        "    metrics=['accuracy'])\n",
        "    \n",
        "    # train\n",
        "    batch_size = 64\n",
        "    global x_train, y_train, x_test, y_test\n",
        "    history = model.fit(x_train, y_train, batch_size=batch_size,\n",
        "    epochs=50, validation_data=(x_test,y_test))\n",
        "    score = model.evaluate(x_test, y_test, batch_size=batch_size)\n",
        "    print(\"\\nTest score:\", score[0])\n",
        "    print('Test accuracy:', score[1])\n",
        "    return history"
      ],
      "metadata": {
        "id": "PwYcDoQnGbQz"
      },
      "execution_count": null,
      "outputs": []
    },
    {
      "cell_type": "code",
      "source": [
        "def train_model4(model):\n",
        "    model.compile(loss='categorical_crossentropy',\n",
        "    optimizer='RMSprop',\n",
        "    metrics=['accuracy'])\n",
        "    \n",
        "    # train\n",
        "    batch_size = 64\n",
        "    global x_train, y_train, x_test, y_test\n",
        "    history = model.fit(x_train, y_train, batch_size=batch_size,\n",
        "    epochs=100, validation_data=(x_test,y_test))\n",
        "    score = model.evaluate(x_test, y_test, batch_size=batch_size)\n",
        "    print(\"\\nTest score:\", score[0])\n",
        "    print('Test accuracy:', score[1])\n",
        "    return history"
      ],
      "metadata": {
        "id": "ebEgywWOTJpO"
      },
      "execution_count": null,
      "outputs": []
    },
    {
      "cell_type": "code",
      "source": [
        "def plot_history(history):\n",
        "    model_history = pd.DataFrame(history.history)\n",
        "    # model_history.head(None)\n",
        "\n",
        "    # Add column 'epoch'\n",
        "    model_history['epoch'] = history.epoch\n",
        "    # model_history.head(None)\n",
        "\n",
        "    fig, (ax1, ax2) = plt.subplots(2, 1, figsize=(8, 10))\n",
        "    num_epochs = model_history.shape[0]\n",
        "\n",
        "    ax1.plot(np.arange(0, num_epochs), model_history[\"accuracy\"], \n",
        "            label=\"Training accuracy\")\n",
        "    ax1.plot(np.arange(0, num_epochs), model_history[\"val_accuracy\"], \n",
        "            label=\"Validation accuracy\")\n",
        "    ax1.legend()\n",
        "    ax1.set_ylabel('accuracy')\n",
        "    ax1.set_xlabel('epoch')\n",
        "    ax1.set_title('Accuracy')\n",
        "    ax2.set_title('Loss')\n",
        "    ax2.plot(np.arange(0, num_epochs), model_history[\"loss\"], \n",
        "            label=\"Training loss\")\n",
        "    ax2.plot(np.arange(0, num_epochs), model_history[\"val_loss\"], \n",
        "            label=\"Validation loss\")\n",
        "    ax2.legend()\n",
        "    ax2.set_ylabel('loss')\n",
        "    ax2.set_xlabel('epoch')\n",
        "    plt.tight_layout()\n",
        "    plt.show()"
      ],
      "metadata": {
        "id": "5gsFiObgPEip"
      },
      "execution_count": null,
      "outputs": []
    },
    {
      "cell_type": "markdown",
      "source": [
        "# Training"
      ],
      "metadata": {
        "id": "9eu4GtD5h4ZF"
      }
    },
    {
      "cell_type": "code",
      "source": [
        "# model = build_model7((32, 32, 3), 100)\n",
        "# hist = train_model7(model)\n",
        "# plot_history(hist)\n",
        "\n",
        "# Save model\n",
        "# model.save(\"CNN_cifar100_model7_.h5\")"
      ],
      "metadata": {
        "id": "vot4B_XJhDG8"
      },
      "execution_count": null,
      "outputs": []
    },
    {
      "cell_type": "markdown",
      "source": [
        "# Predict"
      ],
      "metadata": {
        "id": "73Cs1MutyE5N"
      }
    },
    {
      "cell_type": "code",
      "source": [
        "# Load model\n",
        "model = load_model(PATH + \"/CNN_cifar100_model7_63.h5\")"
      ],
      "metadata": {
        "id": "2wlSsQ-nrHld"
      },
      "execution_count": null,
      "outputs": []
    },
    {
      "cell_type": "code",
      "source": [
        "upload_files()"
      ],
      "metadata": {
        "colab": {
          "resources": {
            "http://localhost:8080/nbextensions/google.colab/files.js": {
              "data": "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",
              "ok": true,
              "headers": [
                [
                  "content-type",
                  "application/javascript"
                ]
              ],
              "status": 200,
              "status_text": ""
            }
          },
          "base_uri": "https://localhost:8080/",
          "height": 73
        },
        "id": "WR2_JhQA6Wvc",
        "outputId": "154d1011-ef91-4fc8-a1e3-6fd4c4451dfd"
      },
      "execution_count": null,
      "outputs": [
        {
          "output_type": "display_data",
          "data": {
            "text/plain": [
              "<IPython.core.display.HTML object>"
            ],
            "text/html": [
              "\n",
              "     <input type=\"file\" id=\"files-5fa07ffe-36d1-4e6f-bd0e-f2a19ae4d27d\" name=\"files[]\" multiple disabled\n",
              "        style=\"border:none\" />\n",
              "     <output id=\"result-5fa07ffe-36d1-4e6f-bd0e-f2a19ae4d27d\">\n",
              "      Upload widget is only available when the cell has been executed in the\n",
              "      current browser session. Please rerun this cell to enable.\n",
              "      </output>\n",
              "      <script src=\"/nbextensions/google.colab/files.js\"></script> "
            ]
          },
          "metadata": {}
        },
        {
          "output_type": "stream",
          "name": "stdout",
          "text": [
            "Saving clock1.jpg to clock1.jpg\n"
          ]
        }
      ]
    },
    {
      "cell_type": "code",
      "source": [
        "filename = 'clock1.jpg'\n",
        "\n",
        "labels = ['apple', 'aquarium_fish', 'baby', 'bear', 'beaver', 'bed', 'bee', 'beetle', 'bicycle', 'bottle', 'bowl', 'boy', 'bridge', 'bus', 'butterfly', 'camel', 'can', 'castle', 'caterpillar', 'cattle', 'chair', 'chimpanzee', 'clock', 'cloud', 'cockroach', 'couch', 'crab', 'crocodile', 'cup', 'dinosaur', 'dolphin', 'elephant', 'flatfish', 'forest', 'fox', 'girl', 'hamster', 'house', 'kangaroo', 'keyboard', 'lamp', 'lawn_mower', 'leopard', 'lion', 'lizard', 'lobster', 'man', 'maple_tree', 'motorcycle', 'mountain', 'mouse', 'mushroom', 'oak_tree', 'orange', 'orchid', 'otter', 'palm_tree', 'pear', 'pickup_truck', 'pine_tree', 'plain', 'plate', 'poppy', 'porcupine', 'possum', 'rabbit', 'raccoon', 'ray', 'road', 'rocket', 'rose', 'sea', 'seal', 'shark', 'shrew', 'skunk', 'skyscraper', 'snail', 'snake', 'spider', 'squirrel', 'streetcar', 'sunflower', 'sweet_pepper', 'table', 'tank', 'telephone', 'television', 'tiger', 'tractor', 'train', 'trout', 'tulip', 'turtle', 'wardrobe', 'whale', 'willow_tree', 'wolf', 'woman', 'worm'] \n",
        "\n",
        "img = load_img(\n",
        "    filename,\n",
        "    target_size = (32, 32)\n",
        ")\n",
        "\n",
        "plt.imshow(img)\n",
        "# print(type(img))\n",
        "img = img_to_array(img)\n",
        "\n",
        "# print(img.shape)\n",
        "\n",
        "img = img.reshape(1, 32, 32, 3)\n",
        "\n",
        "img = img.astype(\"float32\")\n",
        "\n",
        "img /= 255\n",
        "\n",
        "prediction = model.predict(img)\n",
        "\n",
        "# print(prediction)\n",
        "\n",
        "confidence = np.max(prediction)\n",
        "\n",
        "print(\"Confidence: \",confidence * 100)\n",
        "\n",
        "index = np.argmax(prediction, axis = 1)[0] \n",
        "\n",
        "print(labels[index])"
      ],
      "metadata": {
        "id": "eLOf2LNQlFJH",
        "colab": {
          "base_uri": "https://localhost:8080/",
          "height": 301
        },
        "outputId": "c45cc6b7-1169-4450-c941-e00d2867b0cd"
      },
      "execution_count": null,
      "outputs": [
        {
          "output_type": "stream",
          "name": "stdout",
          "text": [
            "Confidence:  85.84154844284058\n",
            "clock\n"
          ]
        },
        {
          "output_type": "display_data",
          "data": {
            "text/plain": [
              "<Figure size 432x288 with 1 Axes>"
            ],
            "image/png": "[encoded data removed]"
          },
          "metadata": {
            "needs_background": "light"
          }
        }
      ]
    }
  ]
}